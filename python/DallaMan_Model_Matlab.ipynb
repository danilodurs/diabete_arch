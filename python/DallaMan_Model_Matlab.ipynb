{
 "cells": [
  {
   "cell_type": "markdown",
   "metadata": {},
   "source": [
    "# Model updated with the matlab implementation written by the authors "
   ]
  },
  {
   "cell_type": "code",
   "execution_count": 1,
   "metadata": {
    "code_folding": [],
    "pycharm": {
     "is_executing": false
    }
   },
   "outputs": [],
   "source": [
    "#import sys\n",
    "#sys.setrecursionlimit(100000)\n",
    "\n",
    "# computer algebra library\n",
    "import symengine\n",
    "import sympy\n",
    "sympy.init_printing()\n",
    "\n",
    "# jupyter notebook display library\n",
    "from IPython.display import display as IPyDisplay\n",
    "from IPython.display import Latex\n",
    "\n",
    "# numeric integration library\n",
    "import scipy\n",
    "from scipy.integrate import solve_ivp\n",
    "\n",
    "# plotting library\n",
    "\n",
    "from matplotlib.pyplot import plot,show\n",
    "\n",
    "# library for scientific computing, used here for plotting\n",
    "import numpy\n",
    "\n",
    "# import dirac delta function\n",
    "from sympy import DiracDelta\n",
    "\n",
    "# hyperbolic functions\n",
    "# from mpmath import tanh, mp\n",
    "from sympy.functions.elementary.hyperbolic import tanh"
   ]
  },
  {
   "cell_type": "markdown",
   "metadata": {},
   "source": [
    "# Some auxiliary Python functions"
   ]
  },
  {
   "cell_type": "code",
   "execution_count": 2,
   "metadata": {
    "code_folding": [
     31,
     38,
     97,
     103,
     140,
     148,
     154
    ],
    "pycharm": {
     "is_executing": false
    }
   },
   "outputs": [],
   "source": [
    "PyPrint = print\n",
    "\n",
    "def doNothing(*ka, **kwa): pass\n",
    "\n",
    "## Decomment the following lines if you want to disable printing:\n",
    "## useful if the rendering is very slow.\n",
    "# print = doNothing\n",
    "# display = doNothing\n",
    "\n",
    "## To restore the original printing functions, do this:\n",
    "# print = PyPrint\n",
    "# display = IPyDisplay\n",
    "\n",
    "# Custom printing functions\n",
    "\n",
    "def latexColor(s, color):\n",
    "    return \"{\\\\color{%s}{\" % color + s + '}}'\n",
    "\n",
    "def vPhantom(obj):\n",
    "    objt = type(obj)\n",
    "    if objt in (list, tuple, set, dict):\n",
    "        res = ''\n",
    "        objlist = list(obj.keys()) if objt == dict else tuple(obj)\n",
    "        for o in objlist:\n",
    "            res += \" \" + vPhantom(o)\n",
    "            if objt == dict:\n",
    "                res += \" \" + vPhantom(obj[o])\n",
    "    else:\n",
    "        res = \"\\\\vphantom{%s}\" % sympy.latex(obj)\n",
    "    return res\n",
    "                \n",
    "def toCustomLatex(\n",
    "    obj, \n",
    "    recursive=False, \n",
    "    delimiters=True,\n",
    "    separator=',',\n",
    "    spacer = '\\\\quad',\n",
    "    color='blue'\n",
    "):\n",
    "    objt = type(obj)\n",
    "\n",
    "    Color = lambda x: latexColor(x, color)\n",
    "    text2latex = lambda x: Color(\"\\\\text{%s}\" % str(x))\n",
    "    \n",
    "    if type(obj) == str:\n",
    "        return text2latex(obj)\n",
    "    \n",
    "    objlist = list(obj.keys()) if objt == dict else tuple(obj)\n",
    "    latex_obj = ''\n",
    "    \n",
    "    toRecLatex = lambda x: toCustomLatex(\n",
    "        x, \n",
    "        recursive = recursive,\n",
    "        delimiters = True,\n",
    "        color = color\n",
    "    )\n",
    "    \n",
    "    for ii in range(len(objlist)):\n",
    "        \n",
    "        if type(objlist[ii]) in (set, dict, list, tuple) and recursive:\n",
    "            toLatex = toRecLatex\n",
    "        elif type(objlist[ii]) == str:\n",
    "            toLatex = text2latex\n",
    "        else:\n",
    "            toLatex = lambda x: Color(sympy.latex(x))\n",
    "        \n",
    "        try:\n",
    "            o = toLatex(objlist[ii])\n",
    "        except:\n",
    "            o = text2latex(o)\n",
    "\n",
    "        if objt == dict:\n",
    "            try:\n",
    "                o += \": \" + toLatex(obj[objlist[ii]])\n",
    "            except:\n",
    "                o += \": \" + text2latex(obj[objlist[ii]])\n",
    "            \n",
    "        sep = (ii + 1 < len(objlist)) * (Color(separator) + spacer + '\\n')\n",
    "        latex_obj += o + sep\n",
    "\n",
    "    if delimiters:\n",
    "        ldelims, rdelims = {\n",
    "            set: \"\\{ \\}\",\n",
    "            dict: \"\\{ \\}\",\n",
    "            list: \"[ ]\",\n",
    "            tuple: \"( )\"\n",
    "        }[objt].split(\" \")\n",
    "\n",
    "        ldelim = \\\n",
    "            \"\\\\left \" + ldelims + vPhantom(obj) + \"\\\\right .\\n\"\n",
    "        rdelim = \\\n",
    "            \"\\\\left . \" + vPhantom(obj) + \"\\\\right \" + rdelims + \"\\n\"\n",
    "\n",
    "        latex_obj = Color(ldelim) + latex_obj + Color(rdelim)\n",
    "\n",
    "    return latex_obj\n",
    "\n",
    "def customDisplay(\n",
    "    obj,\n",
    "    recursive=False,\n",
    "    color='blue',\n",
    "    textcolor='brown',\n",
    "    **args\n",
    "):\n",
    "    objt = type(obj)\n",
    "    \n",
    "    Color = lambda x: latexColor(x, color)\n",
    "    \n",
    "    if objt in (set, dict, list, tuple):\n",
    "        try:\n",
    "            latex_obj = toCustomLatex(\n",
    "                obj,\n",
    "                recursive = recursive,\n",
    "                color = color,\n",
    "                **args\n",
    "            )\n",
    "        except:\n",
    "            latex_obj = toCustomLatex(str(obj))\n",
    "        \n",
    "        latex_obj =   \"\\\\begin{align*}\\n\\\\begin{autobreak}\\n\" \\\n",
    "                    + latex_obj \\\n",
    "                    + \"\\\\end{autobreak}\\n\\\\end{align*}\\n\" \\\n",
    "        \n",
    "        display(Latex(latex_obj))\n",
    "        return\n",
    "\n",
    "    \n",
    "    if objt == str:\n",
    "        display(Latex(\"$%s$\" % latexColor(\"\\\\text{%s}\" % obj, textcolor)))\n",
    "        return\n",
    "    \n",
    "    try:\n",
    "        obj_latex = sympy.latex(obj)\n",
    "        display(Latex(\"$$%s$$\" % Color(obj_latex)))\n",
    "    except:\n",
    "        try:\n",
    "            customDisplay(str(obj))\n",
    "        except:\n",
    "            display(obj)\n",
    "            \n",
    "def blockDisplay(*args, **kwargs):\n",
    "    for a in args:\n",
    "        customDisplay(a, **kwargs)\n",
    "        \n",
    "# Precision used for the definition of numeric values in Sympy \n",
    "# equations.\n",
    "precision = 50\n",
    "\n",
    "def NVal(val):\n",
    "    \"\"\"\n",
    "        Shortcut to create Sympy values with arbitrary precision.\n",
    "    \"\"\"\n",
    "    return sympy.N(val, precision)\n",
    "\n",
    "def chop(obj, low_precision=2):\n",
    "    \"\"\"\n",
    "        Truncate the very long floating point values of the Sympy\n",
    "        object obj. This function is meant to be used only for \n",
    "        displaying, to make Sympy objects readable.\n",
    "    \"\"\"\n",
    "    if isinstance(obj, dict):\n",
    "        return {kk: chop(obj[kk]) for kk in obj.keys()}\n",
    "    for typ in [list, tuple, set]:\n",
    "        if isinstance(obj, typ):\n",
    "            return typ(chop(o) for o in obj)\n",
    "    if type(obj) in (sympy.Float, float):\n",
    "        exponent = -sympy.floor(sympy.log(sympy.Abs(obj))\\\n",
    "                                / sympy.log(10.)) + low_precision\n",
    "        return sympy.N(sympy.Integer(obj * 10**exponent)\\\n",
    "                       / 10**exponent, precision)\n",
    "    sfloat = sympy.Wild(\n",
    "        'sfloat', \n",
    "        properties = [lambda x: isinstance(x, sympy.Float)]\n",
    "    )\n",
    "    if str(type(obj))[8:13] == 'sympy':\n",
    "        return sympy.N(obj.replace(\n",
    "                            sfloat, \n",
    "                            lambda sfloat: chop(sfloat))\n",
    "                      )\n",
    "    return obj"
   ]
  },
  {
   "cell_type": "markdown",
   "metadata": {},
   "source": [
    "#### Substitution functions"
   ]
  },
  {
   "cell_type": "code",
   "execution_count": 3,
   "metadata": {
    "code_folding": [
     0,
     1
    ],
    "pycharm": {
     "is_executing": false
    }
   },
   "outputs": [],
   "source": [
    "def sortSubsDict(subs_dict):\n",
    "    \"\"\"\n",
    "        Given a dictionary of unsorted substitution dictionaries, \n",
    "        return a sorted list of substitution dictionaries without\n",
    "        conflicts. \n",
    "        \n",
    "        A conflict happens when one of the terms to be replaced is\n",
    "        contained in another term to be replaced. \n",
    "        For example, the expression 1 + G(t + 2) contains the\n",
    "        expression t + 2. If both must be replaced at the same\n",
    "        time, there is a conflict, since replacing t + 2 may\n",
    "        make impossible to replace 1 + G(t + 2).\n",
    "        \n",
    "        In this case, the substitutions involving \"bigger terms\"\n",
    "        must be applied first.\n",
    "        \n",
    "        The returned list of dictionaries is built to guarantee\n",
    "        that there is no conflict between substitutions of the\n",
    "        same dictionary, and the expressions involved in the\n",
    "        substitutions of each dictionary are not contained\n",
    "        in the subsequent dictionaries of the returned list.\n",
    "        \n",
    "        Accepted types: dictionary\n",
    "    \"\"\"\n",
    "    dict_list = []\n",
    "    keys = list(subs_dict.keys())\n",
    "    while keys:\n",
    "        dict_list += [dict()]\n",
    "        for s in keys:\n",
    "            if sum(len(x.find(s)) for x in keys) == 1:\n",
    "                dict_list[-1].update({s: subs_dict[s]})\n",
    "        for s in dict_list[-1].keys():\n",
    "            keys.remove(s)\n",
    "    return dict_list\n",
    "\n",
    "def subs_aux(\n",
    "    obj, \n",
    "    subs_dict_or_list,\n",
    "    RHSonly=False,\n",
    "    simplify=True,\n",
    "    doit=True,\n",
    "    recursive=False,\n",
    "    maxRecursionDepth=10\n",
    "):\n",
    "    \"\"\"\n",
    "        Apply the given list of substitutions subs_dict_or_list\n",
    "        to the object obj.\n",
    "        \n",
    "        Accepted types for the object:\n",
    "            sympy equations or expressions or anything \n",
    "                having the .subs() method,\n",
    "            dict, list, tuple, set\n",
    "            \n",
    "        Accepted types for the substitutions:\n",
    "            list of pairs,\n",
    "            dictionary of substitutions\n",
    "\n",
    "        An object of the same type of obj is returned.\n",
    "        If the object is of type dictionary, the substitutions\n",
    "        are NOT applied to its keys.\n",
    "        \n",
    "        If RHSonly is True and the object is of type sympy.Eq,\n",
    "        the substitutions are applied only to the right hand\n",
    "        side of the equation.\n",
    "        In any case, simplify() and doit() are applied separately\n",
    "        to each side of an equation.\n",
    "        \n",
    "        If an equation becomes trivially True, it is removed from\n",
    "        the dictionary or list or set or tuple.\n",
    "    \"\"\"\n",
    "    \n",
    "    if type(subs_dict_or_list) == dict:\n",
    "        subs_list = [(kk, subs_dict_or_list[kk]) \n",
    "                     for kk in subs_dict_or_list.keys()]\n",
    "    else:\n",
    "        subs_list = list(subs_dict_or_list)\n",
    "    \n",
    "    subss_aux = lambda x: subs_aux(\n",
    "        x, \n",
    "        subs_list, \n",
    "        RHSonly = RHSonly, \n",
    "        simplify = simplify,\n",
    "        doit = doit,\n",
    "        recursive = recursive\n",
    "    )\n",
    "    \n",
    "    notTrivial = \\\n",
    "        lambda x: not isinstance(x, sympy.boolalg.BooleanTrue)\n",
    "        \n",
    "    objt = type(obj)\n",
    "    if objt == dict:\n",
    "        res = dict()\n",
    "        for kk in obj.keys():\n",
    "            objsub = subss_aux(obj[kk])\n",
    "            if notTrivial(objsub):\n",
    "                res.update({kk: objsub})\n",
    "    elif objt in (list, tuple, set):\n",
    "        res = objt()\n",
    "        for kk in obj:\n",
    "            skk = subss_aux(kk)\n",
    "            if notTrivial(skk):\n",
    "                if objt == list:\n",
    "                    res.append(skk)\n",
    "                elif objt == tuple:\n",
    "                    res += (skk,)\n",
    "                else:\n",
    "                    res.add(skk)\n",
    "    else:\n",
    "        if isinstance(objt, sympy.Eq):\n",
    "            if RHSonly:\n",
    "                lhs = obj.args[0]\n",
    "            else:\n",
    "                lhs = subss_aux(obj.args[0])\n",
    "            rhs = subss_aux(obj.args[1])\n",
    "            res = sympy.Eq(lhs, rhs)\n",
    "        else:\n",
    "            res = obj.subs(subs_list, simplify=False)\n",
    "            if recursive:\n",
    "                oldres = obj\n",
    "                for ii in range(maxRecursionDepth):\n",
    "                    if res != oldres:\n",
    "                        oldres = res\n",
    "                        res = res.subs(subs_list, simplify=False)\n",
    "                    else:\n",
    "                        break\n",
    "            if simplify:\n",
    "                res = res.simplify()\n",
    "            if doit:\n",
    "                res = res.doit()\n",
    "    return res\n",
    "\n",
    "def subs(\n",
    "    obj, \n",
    "    subs_dict,\n",
    "    RHSonly=False,\n",
    "    simplify=True,\n",
    "    doit=True,\n",
    "    recursive=False,\n",
    "    maxRecursionDepth=10\n",
    "):\n",
    "    res = obj\n",
    "    subs_dict_list = sortSubsDict(subs_dict)\n",
    "    for sd in subs_dict_list:\n",
    "        res = subs_aux(\n",
    "            res,\n",
    "            sd, \n",
    "            RHSonly = RHSonly, \n",
    "            simplify = simplify, \n",
    "            doit = doit,\n",
    "            recursive = recursive,\n",
    "            maxRecursionDepth = maxRecursionDepth\n",
    "        )\n",
    "    return res"
   ]
  },
  {
   "cell_type": "markdown",
   "metadata": {},
   "source": [
    "# Model"
   ]
  },
  {
   "cell_type": "code",
   "execution_count": 4,
   "metadata": {
    "pycharm": {
     "is_executing": false
    }
   },
   "outputs": [],
   "source": [
    "class EmptyObject(): pass\n",
    "\n",
    "model = EmptyObject()\n",
    "\n",
    "symbols = EmptyObject()\n",
    "model.symbols = symbols\n",
    "\n",
    "def SSymbol(s, **kwargs):\n",
    "    return sympy.Symbol(s, nonnegative=True, **kwargs)\n",
    "\n",
    "def SFunction(sf, **kwargs):\n",
    "    return sympy.Function(sf, nonnegative=True, **kwargs)"
   ]
  },
  {
   "cell_type": "markdown",
   "metadata": {},
   "source": [
    "## Variables, Parameters and constants"
   ]
  },
  {
   "cell_type": "code",
   "execution_count": 5,
   "metadata": {
    "pycharm": {
     "is_executing": false
    }
   },
   "outputs": [],
   "source": [
    "# Variables\n",
    "t      = sympy.Symbol('t')\n",
    "\n",
    "Gp     = SFunction('G_{\\\\textit{p}}')(t) # glucose masses in plasma and rapidly equilibrating tissues (mg/kg)\n",
    "Gt     = SFunction('G_{\\\\textit{t}}')(t) # glucose masses in plasma and slowly equilibrating tissues (mg/kg)\n",
    "G      = SFunction('G')(t)   # plasma glucose concentration (mg/dl)\n",
    "EGP    = SFunction('EGP')(t) # endogenous glucose production (mg/kg/min)\n",
    "Ra     = SFunction('R_{\\\\textit{a}}')(t)  # appearance rate of glucose in plasma (mg/kg/min)\n",
    "E      = SFunction('E')(t)   # renal excretion (mg/kg/min)\n",
    "Uii    = SFunction('U_{\\\\textit{ii}}')(t) # insulin-independent glucose utilizations (mg/kg/min)\n",
    "Uid    = SFunction('U_{\\\\textit{id}}')(t) # insulin-dependent glucose utilizations (mg/kg/min)\n",
    "U      = SFunction('U')(t)   # total glucose utilizations (mg/kg/min)\n",
    "\n",
    "Ip     = SFunction('I_{\\\\textit{p}}')(t) # Insulin masses in plasma (pmol/kg)\n",
    "Il     = SFunction('I_{\\\\textit{l}}')(t) # Insulin masses in liver (pmol/kg)\n",
    "I      = SFunction('I')(t)   # Insulin concentration (pmol/l)\n",
    "S      = SFunction('S')(t)   # Insulin secretion (pmol/kg/min)\n",
    "m3     = SFunction('m_3')(t) # ??\n",
    "HE     = SFunction('HE')(t)  # Hepatic Extraction of insulin\n",
    "Ipo    = SFunction('I_{\\\\textit{po}}')(t) # Amount of insulin in the portal vein (pmol/kg)\n",
    "Id     = SFunction('I_{\\\\textit{d}}')(t)  # delayed insulin signal realized with 2 compartments (pmol/l)\n",
    "I1     = SFunction('I_1')(t) # used by Id (for delayed insulin signal)\n",
    "\n",
    "Qsto  = SFunction('Q_{\\\\textit{sto}}')(t)   #  amount of glucose in the stomach (mg) = Qsto1 + Qsto2\n",
    "Qsto1 = SFunction('Q_{\\\\textit{sto1}}')(t)  #  amount of solid glucose in the stomach (mg)\n",
    "Qsto2 = SFunction('Q_{\\\\textit{sto2}}')(t)  #  amount of liquid glucose in the stomach (mg)\n",
    "Qgut  = SFunction('Q_{\\\\textit{gut}}')(t)   #  glucose mass in the intestin (mg)\n",
    "kempt = SFunction('K_{\\\\textit{empt}}')(t)  #  rate \"constant\" of gastric emptying (1/min)\n",
    "\n",
    "X     = SFunction('X')(t)                   # insulin in the interstitial fluid (pmol/L)\n",
    "Y     = SFunction('Y')(t)                   # not defined ...\n",
    "Spo   = SFunction('S_{\\\\textit{po}}')(t)    # not defined ...\n",
    "\n",
    "symbols.time = {t}\n",
    "symbols.variables = [Gp, Gt, G, EGP, Ra, E, Uii, Uid, U, Ip, Il, I, S, m3, HE, Ipo, Id, I1, Qsto, Qsto1, \n",
    "                     Qsto2, Qgut, kempt, X, Y, Spo]\n",
    "\n",
    "# Parameters\n",
    "k1    = SSymbol('k_1')      # rate parameter (1/min) for glucose model\n",
    "k2    = SSymbol('k_2')      # rate parameter (1/min) for glucose model\n",
    "VG    = SSymbol('V_G')      # distribution volume of glucose (dl/kg)\n",
    "VI    = SSymbol('V_I')      # distribution volume of insulin (l/kg)\n",
    "m1    = SSymbol('m_1')      # rate parameter (1/min) for insulin model\n",
    "m2    = SSymbol('m_2')      # rate parameter (1/min) for insulin model\n",
    "m4    = SSymbol('m_4')      # rate parameter (1/min) for insulin model\n",
    "m5    = SSymbol('m_5')      # rate parameter (1/min) for insulin model\n",
    "m6    = SSymbol('m_6')      # rate parameter (1/min) for insulin model\n",
    "kmin  = SSymbol('k_{min}') # min value of kempt (1/min)\n",
    "kmax  = SSymbol('k_{max}') # max value of kempt (1/min)\n",
    "kabs  = SSymbol('k_{abs}')  # rate constant of intestinale absorption (1/min)\n",
    "kgri  = SSymbol('k_{gri}')  # rate of grinding (1/min)\n",
    "f     = SSymbol('f')        # fraction of intestinal absorption which actually appears in plasma\n",
    "b     = SSymbol('b')        # percentage of the dose for which kempt decreases at (kmax-kmin)/2\n",
    "c     = SSymbol('c')        # percentage of the dose for which kempt is back to (kmax-kmin)/2\n",
    "kp1   = SSymbol('k_{p1}')   # extrapolated at zero glucose and insulin (mg/kg/min)\n",
    "kp2   = SSymbol('k_{p2}')   # liver glucose effectiveness (1/min)\n",
    "kp3   = SSymbol('k_{p3}')   # parameter governing amplitude of insulin action on the liver (mg/kg/min per pmol/l)\n",
    "kp4   = SSymbol('k_{p4}')   # parameter governing amplitude of portal insulin action on the liver (mg/kg/\\min /(pmol/kg))\n",
    "ki    = SSymbol('k_i')      # rate parameter accounting for delay between insulin signal and insulin action (1/min)\n",
    "Fcns  = SSymbol('F_{cns}')  # rate of glucose uptake by the brain and erythrocytes (mg/kg/min)\n",
    "p2U   = SSymbol('p_{\\\\textit{2U}}') # rate constant of insulin action on the peripheral glucose utilization (1/min)\n",
    "Vm0   = SSymbol('V_{\\\\textit{m0}}') # (mg/kg/min)\n",
    "Vmx   = SSymbol('V_{\\\\textit{mx}}') # (mg/kg/min per pmol/l)\n",
    "Km0   = SSymbol('K_{\\\\textit{m0}}') # (mg/kg)\n",
    "Kmx   = SSymbol('K_{\\\\textit{mx}}') # (mg/kg)\n",
    "γ     = SSymbol('\\\\gamma')  # transfer rate constant between portal vein and liver (1/min)\n",
    "K     = SSymbol('K')        # pancreatic responsivity to the glucose rate of change (pmol/kg per mg/dl)\n",
    "α     = SSymbol('\\\\alpha')  # delay between glucose signal and insulin secretion (1/min)\n",
    "β     = SSymbol('\\\\beta')   # pancreatic responsivity to glucose (pmol/kg/min per mg/dl)\n",
    "h     = SSymbol('h')        # threshold of glucose above which the cells initiate to produce new insulin (mg/dl)\n",
    "ke1   = SSymbol('k_{\\\\textit{e}_1}') # glomerular filtration rate (1/min)\n",
    "ke2   = SSymbol('k_{\\\\textit{e}_2}') # renal threshold of glucose (mg/kg)\n",
    "\n",
    "# memo: h has been set equal to Gb\n",
    "\n",
    "symbols.parameters = [ k1, k2, VG, VI, m1, m2, m4, m5, m6, kmin, kmax, kabs, kgri, f, b, c, kp1, kp2, kp3, kp4, \n",
    "                      ki, Fcns, p2U, Vm0, Vmx, Km0, Kmx, γ, K, α, β, h, ke1, ke2 ]\n",
    "\n",
    "# Variables at basal steady state\n",
    "Gpb  = SSymbol('G_{\\\\text{pb}}')  # Gp at basal state\n",
    "Gtb  = SSymbol('G_{\\\\text{tb}}')  # Gt at basal state\n",
    "Gb   = SSymbol('G_{\\\\text{b}}')   # G at basal state\n",
    "EGPb = SSymbol('EGP_{\\\\text{b}}') # EGP at basal state\n",
    "Rab  = SSymbol('R_{\\\\textit{ab}}')\n",
    "Eb   = SSymbol('E_{\\\\text{b}}')   # E at basal state\n",
    "Uiib = SSymbol('U_{\\\\text{iib}}') # Uii at basal state\n",
    "Uidb = SSymbol('U_{\\\\text{idb}}') # Uid at basal state\n",
    "Ub   = SSymbol('U_{\\\\text{b}}')   # Ub at basal state (ie. Uiib+Uid)\n",
    "\n",
    "Ipb    = SSymbol('I_{\\\\text{pb}}')   # Ip at basal state\n",
    "Ilb    = SSymbol('I_{\\\\text{lb}}')   # Il at basal state\n",
    "Ib     = SSymbol('I_{\\\\text{b}}')    # I at basal state\n",
    "Sb     = SSymbol('S_{\\\\text{b}}')    # S at basal state\n",
    "m3b    = SSymbol('m_{\\\\text{3b}}')   # m3 at basal state\n",
    "HEb    = SSymbol('HE_{\\\\text{b}}')   # HE at basal state\n",
    "Ipob   = SSymbol('I_{\\\\text{pob}}')  # Ipo at basal state\n",
    "Idb    = SSymbol('I_{\\\\text{db}}')   # Id at basal state\n",
    "I1b    = SSymbol('I_{\\\\text{1b}}')   # I1 at basal state\n",
    "\n",
    "Qstob  = SSymbol('Q_{\\\\textit{stob}}')\n",
    "Qsto1b = SSymbol('Q_{\\\\textit{sto1b}}')\n",
    "Qsto2b = SSymbol('Q_{\\\\textit{sto2b}}')\n",
    "Qgutb  = SSymbol('Q_{\\\\textit{gutb}}')\n",
    "kemptb = SSymbol('K_{\\\\textit{emptb}}')\n",
    "\n",
    "Xb     = SSymbol('X_{\\\\textit{b}}')\n",
    "Yb     = SSymbol('Y_{\\\\textit{b}}')\n",
    "Spob   = SSymbol('S_{\\\\textit{pob}}')\n",
    "\n",
    "symbols.variables_basal = [ Gpb, Gtb, Gb, EGPb, Rab, Eb, Uiib, Uidb, Ub, Ipb, Ilb, Ib, Sb, m3b, HEb,\n",
    "                            Ipob, Idb, I1b, Qstob, Qsto1b, Qsto2b, Qgutb, kemptb, Xb, Yb, Spob ]\n",
    "\n",
    "# input variables\n",
    "D     = SFunction('D')(t) # we set D a function with null derivative instead of a constant parameters to make easier the the updating of its value\n",
    "# D     = SSymbol('D')        # amount of ingested glucose (mg)\n",
    "BW    = SSymbol('BW')       # body weight (kg)\n",
    "symbols.input_variables = { Gb, D, BW }"
   ]
  },
  {
   "cell_type": "markdown",
   "metadata": {},
   "source": [
    "## Equations"
   ]
  },
  {
   "cell_type": "code",
   "execution_count": 6,
   "metadata": {
    "pycharm": {
     "is_executing": false
    }
   },
   "outputs": [],
   "source": [
    "equations = dict()\n",
    "model.equations = equations"
   ]
  },
  {
   "cell_type": "markdown",
   "metadata": {},
   "source": [
    "### Glucose subsystem"
   ]
  },
  {
   "cell_type": "markdown",
   "metadata": {},
   "source": [
    "Equations (1)"
   ]
  },
  {
   "cell_type": "markdown",
   "metadata": {},
   "source": [
    "_We add Max function on EGP and Ra as in the matlab implementation_"
   ]
  },
  {
   "cell_type": "code",
   "execution_count": 7,
   "metadata": {
    "scrolled": false,
    "pycharm": {
     "is_executing": false
    }
   },
   "outputs": [
    {
     "data": {
      "text/plain": "<IPython.core.display.Latex object>",
      "text/latex": "$${\\color{blue}{\\frac{d}{d t} \\operatorname{G_{\\textit{p}}}{\\left(t \\right)} = - k_{1} \\operatorname{G_{\\textit{p}}}{\\left(t \\right)} + k_{2} \\operatorname{G_{\\textit{t}}}{\\left(t \\right)} - E{\\left(t \\right)} + \\operatorname{EGP}{\\left(t \\right)} + \\operatorname{R_{\\textit{a}}}{\\left(t \\right)} - \\operatorname{U_{\\textit{ii}}}{\\left(t \\right)}}}$$"
     },
     "metadata": {},
     "output_type": "display_data"
    },
    {
     "data": {
      "text/plain": "<IPython.core.display.Latex object>",
      "text/latex": "$${\\color{blue}{\\frac{d}{d t} \\operatorname{G_{\\textit{t}}}{\\left(t \\right)} = k_{1} \\operatorname{G_{\\textit{p}}}{\\left(t \\right)} - k_{2} \\operatorname{G_{\\textit{t}}}{\\left(t \\right)} - \\operatorname{U_{\\textit{id}}}{\\left(t \\right)}}}$$"
     },
     "metadata": {},
     "output_type": "display_data"
    },
    {
     "data": {
      "text/plain": "<IPython.core.display.Latex object>",
      "text/latex": "$${\\color{blue}{G{\\left(t \\right)} = \\frac{\\operatorname{G_{\\textit{p}}}{\\left(t \\right)}}{V_{G}}}}$$"
     },
     "metadata": {},
     "output_type": "display_data"
    }
   ],
   "source": [
    "equations.update({\n",
    "    Gp : sympy.Eq(Gp.diff(), sympy.Max(EGP,0) + sympy.Max(Ra,0) - Uii - E - k1*Gp + k2*Gt),\n",
    "    #Gp : sympy.Eq(Gp.diff(), EGP + Ra - Uii - E - k1*Gp + k2*Gt),\n",
    "    Gt : sympy.Eq(Gt.diff(), -Uid + k1*Gp - k2*Gt),\n",
    "    G  : sympy.Eq(G, Gp / VG),\n",
    "})\n",
    "blockDisplay(*(equations[e] for e in [Gp, Gt, G]))"
   ]
  },
  {
   "cell_type": "markdown",
   "metadata": {},
   "source": [
    "##### Endogenous Glucose Production "
   ]
  },
  {
   "cell_type": "markdown",
   "metadata": {},
   "source": [
    "Equations (10)"
   ]
  },
  {
   "cell_type": "code",
   "execution_count": 8,
   "metadata": {
    "pycharm": {
     "is_executing": false
    }
   },
   "outputs": [
    {
     "data": {
      "text/plain": "<IPython.core.display.Latex object>",
      "text/latex": "$${\\color{blue}{\\operatorname{EGP}{\\left(t \\right)} = k_{p1} - k_{p2} \\operatorname{G_{\\textit{p}}}{\\left(t \\right)} - k_{p3} \\operatorname{I_{\\textit{d}}}{\\left(t \\right)} - k_{p4} \\operatorname{I_{\\textit{po}}}{\\left(t \\right)}}}$$"
     },
     "metadata": {},
     "output_type": "display_data"
    }
   ],
   "source": [
    "equations.update({\n",
    "    EGP  : sympy.Eq(EGP, kp1 - kp2*Gp - kp3*Id - kp4*Ipo),\n",
    "})\n",
    "blockDisplay(*(equations[e] for e in [EGP]))"
   ]
  },
  {
   "cell_type": "markdown",
   "metadata": {},
   "source": [
    "##### Glucose rate of appearance"
   ]
  },
  {
   "cell_type": "markdown",
   "metadata": {},
   "source": [
    "Equations (13)"
   ]
  },
  {
   "cell_type": "code",
   "execution_count": 9,
   "metadata": {
    "pycharm": {
     "is_executing": false
    }
   },
   "outputs": [
    {
     "data": {
      "text/plain": "<IPython.core.display.Latex object>",
      "text/latex": "$${\\color{blue}{\\operatorname{Q_{\\textit{sto}}}{\\left(t \\right)} = \\operatorname{Q_{\\textit{sto1}}}{\\left(t \\right)} + \\operatorname{Q_{\\textit{sto2}}}{\\left(t \\right)}}}$$"
     },
     "metadata": {},
     "output_type": "display_data"
    },
    {
     "data": {
      "text/plain": "<IPython.core.display.Latex object>",
      "text/latex": "$${\\color{blue}{\\frac{d}{d t} \\operatorname{Q_{\\textit{sto1}}}{\\left(t \\right)} = - k_{gri} \\operatorname{Q_{\\textit{sto1}}}{\\left(t \\right)} + D{\\left(t \\right)} \\delta\\left(t\\right)}}$$"
     },
     "metadata": {},
     "output_type": "display_data"
    },
    {
     "data": {
      "text/plain": "<IPython.core.display.Latex object>",
      "text/latex": "$${\\color{blue}{\\frac{d}{d t} \\operatorname{Q_{\\textit{sto2}}}{\\left(t \\right)} = k_{gri} \\operatorname{Q_{\\textit{sto1}}}{\\left(t \\right)} - \\operatorname{K_{\\textit{empt}}}{\\left(t \\right)} \\operatorname{Q_{\\textit{sto2}}}{\\left(t \\right)}}}$$"
     },
     "metadata": {},
     "output_type": "display_data"
    },
    {
     "data": {
      "text/plain": "<IPython.core.display.Latex object>",
      "text/latex": "$${\\color{blue}{\\frac{d}{d t} \\operatorname{Q_{\\textit{gut}}}{\\left(t \\right)} = - k_{abs} \\operatorname{Q_{\\textit{gut}}}{\\left(t \\right)} + \\operatorname{K_{\\textit{empt}}}{\\left(t \\right)} \\operatorname{Q_{\\textit{sto2}}}{\\left(t \\right)}}}$$"
     },
     "metadata": {},
     "output_type": "display_data"
    },
    {
     "data": {
      "text/plain": "<IPython.core.display.Latex object>",
      "text/latex": "$${\\color{blue}{\\operatorname{R_{\\textit{a}}}{\\left(t \\right)} = \\frac{f k_{abs} \\operatorname{Q_{\\textit{gut}}}{\\left(t \\right)}}{BW}}}$$"
     },
     "metadata": {},
     "output_type": "display_data"
    }
   ],
   "source": [
    "equations.update({\n",
    "    Qsto  : sympy.Eq(Qsto, Qsto1 + Qsto2),\n",
    "    Qsto1 : sympy.Eq(Qsto1.diff(), -kgri * Qsto1 + D*DiracDelta(t)),\n",
    "    Qsto2 : sympy.Eq(Qsto2.diff(), -kempt*Qsto2 + kgri*Qsto1),\n",
    "    Qgut  : sympy.Eq(Qgut.diff(), -kabs*Qgut + kempt*Qsto2),\n",
    "    Ra    : sympy.Eq(Ra, f*kabs*Qgut/BW)\n",
    "})\n",
    "blockDisplay(*(equations[e] for e in [Qsto, Qsto1, Qsto2, Qgut, Ra]))"
   ]
  },
  {
   "cell_type": "markdown",
   "metadata": {},
   "source": [
    "Equation (8) from [Dalla Man et al. 2006]"
   ]
  },
  {
   "cell_type": "code",
   "execution_count": 10,
   "metadata": {
    "pycharm": {
     "is_executing": false
    }
   },
   "outputs": [
    {
     "data": {
      "text/plain": "<IPython.core.display.Latex object>",
      "text/latex": "$${\\color{blue}{\\operatorname{K_{\\textit{empt}}}{\\left(t \\right)} = k_{min} + \\frac{\\left(k_{max} - k_{min}\\right) \\left(- \\tanh{\\left(\\frac{- 5 c D{\\left(t \\right)} + 5 \\operatorname{Q_{\\textit{sto}}}{\\left(t \\right)}}{2 c D{\\left(t \\right)}} \\right)} + \\tanh{\\left(\\frac{- 5 b D{\\left(t \\right)} + 5 \\operatorname{Q_{\\textit{sto}}}{\\left(t \\right)}}{2 \\left(1 - b\\right) D{\\left(t \\right)}} \\right)} + 2\\right)}{2}}}$$"
     },
     "metadata": {},
     "output_type": "display_data"
    }
   ],
   "source": [
    "equations.update({\n",
    "    kempt  : sympy.Eq(kempt, kmin + (kmax-kmin)*(tanh(5*(Qsto-b*D)/(2*D*(1-b))) - tanh(5*(Qsto-c*D)/(2*D*c))+2)/2)\n",
    "})\n",
    "blockDisplay(*(equations[e] for e in [kempt]))"
   ]
  },
  {
   "cell_type": "markdown",
   "metadata": {},
   "source": [
    "##### Glucose utilization\n",
    "\n",
    "Caution: constant K_mx is not given any value in the paper... (if I understand correctly, parameter estimation infers\n",
    "a value of 0).\n",
    "\n",
    "Note also that in the book \"Modelling Methodology for Physiology and Medicine\", another (more complex...) equation is given for Uid that doesn't use Kmx. "
   ]
  },
  {
   "cell_type": "markdown",
   "metadata": {},
   "source": [
    "Equations (14) (15) (18) and (19)"
   ]
  },
  {
   "cell_type": "code",
   "execution_count": 11,
   "metadata": {
    "scrolled": true,
    "pycharm": {
     "is_executing": false
    }
   },
   "outputs": [
    {
     "data": {
      "text/plain": "<IPython.core.display.Latex object>",
      "text/latex": "$${\\color{blue}{\\operatorname{U_{\\textit{ii}}}{\\left(t \\right)} = F_{cns}}}$$"
     },
     "metadata": {},
     "output_type": "display_data"
    },
    {
     "data": {
      "text/plain": "<IPython.core.display.Latex object>",
      "text/latex": "$${\\color{blue}{\\operatorname{U_{\\textit{id}}}{\\left(t \\right)} = \\frac{V_{\\textit{m0}} \\operatorname{G_{\\textit{t}}}{\\left(t \\right)} + V_{\\textit{mx}} \\operatorname{G_{\\textit{t}}}{\\left(t \\right)} X{\\left(t \\right)}}{K_{\\textit{m0}} + K_{\\textit{mx}} X{\\left(t \\right)} + \\operatorname{G_{\\textit{t}}}{\\left(t \\right)}}}}$$"
     },
     "metadata": {},
     "output_type": "display_data"
    },
    {
     "data": {
      "text/plain": "<IPython.core.display.Latex object>",
      "text/latex": "$${\\color{blue}{\\frac{d}{d t} X{\\left(t \\right)} = p_{\\textit{2U}} \\left(- I_{\\text{b}} + I{\\left(t \\right)}\\right) - p_{\\textit{2U}} X{\\left(t \\right)}}}$$"
     },
     "metadata": {},
     "output_type": "display_data"
    },
    {
     "data": {
      "text/plain": "<IPython.core.display.Latex object>",
      "text/latex": "$${\\color{blue}{U{\\left(t \\right)} = \\operatorname{U_{\\textit{id}}}{\\left(t \\right)} + \\operatorname{U_{\\textit{ii}}}{\\left(t \\right)}}}$$"
     },
     "metadata": {},
     "output_type": "display_data"
    }
   ],
   "source": [
    "equations.update({\n",
    "    Uii : sympy.Eq(Uii, Fcns),\n",
    "    Uid : sympy.Eq(Uid, (Vm0*Gt + Vmx*X*Gt)/(Km0+Kmx*X+Gt)),\n",
    "    X   : sympy.Eq(X.diff(), -p2U*X + p2U*(I-Ib)),\n",
    "    U   : sympy.Eq(U, Uii+Uid)\n",
    "})\n",
    "blockDisplay(*(equations[e] for e in [Uii,Uid,X,U]))"
   ]
  },
  {
   "cell_type": "markdown",
   "metadata": {},
   "source": [
    "##### Insulin secretion"
   ]
  },
  {
   "cell_type": "markdown",
   "metadata": {},
   "source": [
    "Equations (23) (24) (25) and (26).\n",
    "_As in the matlab implementation we add a condition in the first branch of the equation for Spo: we use Gb instead of h since h=Gb in the matlab implementation._"
   ]
  },
  {
   "cell_type": "code",
   "execution_count": 42,
   "metadata": {
    "pycharm": {
     "is_executing": false,
     "name": "#%%\n"
    }
   },
   "outputs": [
    {
     "traceback": [
      "\u001b[0;31m---------------------------------------------------------------------------\u001b[0m",
      "\u001b[0;31mRecursionError\u001b[0m                            Traceback (most recent call last)",
      "\u001b[0;32m<ipython-input-42-efb21f90aadc>\u001b[0m in \u001b[0;36m<module>\u001b[0;34m\u001b[0m\n\u001b[1;32m      9\u001b[0m                    \u001b[0;31m#sympy.Piecewise((Y+K*G.diff()+Sb, (G.diff()>0) & (G > h)),\u001b[0m\u001b[0;34m\u001b[0m\u001b[0;34m\u001b[0m\u001b[0;34m\u001b[0m\u001b[0m\n\u001b[1;32m     10\u001b[0m                    sympy.Piecewise((Y+K*G.diff()+Sb, (G.diff()>0) & (G > 2)),\n\u001b[0;32m---> 11\u001b[0;31m                                    (Y+Sb, True)))\n\u001b[0m\u001b[1;32m     12\u001b[0m })\n\u001b[1;32m     13\u001b[0m \u001b[0mblockDisplay\u001b[0m\u001b[0;34m(\u001b[0m\u001b[0;34m*\u001b[0m\u001b[0;34m(\u001b[0m\u001b[0mequations\u001b[0m\u001b[0;34m[\u001b[0m\u001b[0me\u001b[0m\u001b[0;34m]\u001b[0m \u001b[0;32mfor\u001b[0m \u001b[0me\u001b[0m \u001b[0;32min\u001b[0m \u001b[0;34m[\u001b[0m\u001b[0mS\u001b[0m\u001b[0;34m,\u001b[0m\u001b[0mIpo\u001b[0m\u001b[0;34m,\u001b[0m\u001b[0mY\u001b[0m\u001b[0;34m,\u001b[0m\u001b[0mSpo\u001b[0m\u001b[0;34m]\u001b[0m\u001b[0;34m)\u001b[0m\u001b[0;34m)\u001b[0m\u001b[0;34m\u001b[0m\u001b[0;34m\u001b[0m\u001b[0m\n",
      "\u001b[0;32m~/bin/anaconda3/envs/diabete/lib/python3.7/site-packages/sympy/functions/elementary/piecewise.py\u001b[0m in \u001b[0;36m__new__\u001b[0;34m(cls, *args, **options)\u001b[0m\n\u001b[1;32m    141\u001b[0m \u001b[0;34m\u001b[0m\u001b[0m\n\u001b[1;32m    142\u001b[0m         \u001b[0;32mif\u001b[0m \u001b[0moptions\u001b[0m\u001b[0;34m.\u001b[0m\u001b[0mpop\u001b[0m\u001b[0;34m(\u001b[0m\u001b[0;34m'evaluate'\u001b[0m\u001b[0;34m,\u001b[0m \u001b[0;32mTrue\u001b[0m\u001b[0;34m)\u001b[0m\u001b[0;34m:\u001b[0m\u001b[0;34m\u001b[0m\u001b[0;34m\u001b[0m\u001b[0m\n\u001b[0;32m--> 143\u001b[0;31m             \u001b[0mr\u001b[0m \u001b[0;34m=\u001b[0m \u001b[0mcls\u001b[0m\u001b[0;34m.\u001b[0m\u001b[0meval\u001b[0m\u001b[0;34m(\u001b[0m\u001b[0;34m*\u001b[0m\u001b[0mnewargs\u001b[0m\u001b[0;34m)\u001b[0m\u001b[0;34m\u001b[0m\u001b[0;34m\u001b[0m\u001b[0m\n\u001b[0m\u001b[1;32m    144\u001b[0m         \u001b[0;32melse\u001b[0m\u001b[0;34m:\u001b[0m\u001b[0;34m\u001b[0m\u001b[0;34m\u001b[0m\u001b[0m\n\u001b[1;32m    145\u001b[0m             \u001b[0mr\u001b[0m \u001b[0;34m=\u001b[0m \u001b[0;32mNone\u001b[0m\u001b[0;34m\u001b[0m\u001b[0;34m\u001b[0m\u001b[0m\n",
      "\u001b[0;32m~/bin/anaconda3/envs/diabete/lib/python3.7/site-packages/sympy/functions/elementary/piecewise.py\u001b[0m in \u001b[0;36meval\u001b[0;34m(cls, *_args)\u001b[0m\n\u001b[1;32m    190\u001b[0m                     \u001b[0mx\u001b[0m \u001b[0;34m=\u001b[0m \u001b[0mfree\u001b[0m\u001b[0;34m.\u001b[0m\u001b[0mpop\u001b[0m\u001b[0;34m(\u001b[0m\u001b[0;34m)\u001b[0m\u001b[0;34m\u001b[0m\u001b[0;34m\u001b[0m\u001b[0m\n\u001b[1;32m    191\u001b[0m                     \u001b[0;32mtry\u001b[0m\u001b[0;34m:\u001b[0m\u001b[0;34m\u001b[0m\u001b[0;34m\u001b[0m\u001b[0m\n\u001b[0;32m--> 192\u001b[0;31m                         \u001b[0mc\u001b[0m \u001b[0;34m=\u001b[0m \u001b[0mc\u001b[0m\u001b[0;34m.\u001b[0m\u001b[0mas_set\u001b[0m\u001b[0;34m(\u001b[0m\u001b[0;34m)\u001b[0m\u001b[0;34m.\u001b[0m\u001b[0mas_relational\u001b[0m\u001b[0;34m(\u001b[0m\u001b[0mx\u001b[0m\u001b[0;34m)\u001b[0m\u001b[0;34m\u001b[0m\u001b[0;34m\u001b[0m\u001b[0m\n\u001b[0m\u001b[1;32m    193\u001b[0m                     \u001b[0;32mexcept\u001b[0m \u001b[0mNotImplementedError\u001b[0m\u001b[0;34m:\u001b[0m\u001b[0;34m\u001b[0m\u001b[0;34m\u001b[0m\u001b[0m\n\u001b[1;32m    194\u001b[0m                         \u001b[0;32mpass\u001b[0m\u001b[0;34m\u001b[0m\u001b[0;34m\u001b[0m\u001b[0m\n",
      "\u001b[0;32m~/bin/anaconda3/envs/diabete/lib/python3.7/site-packages/sympy/logic/boolalg.py\u001b[0m in \u001b[0;36mas_set\u001b[0;34m(self)\u001b[0m\n\u001b[1;32m    145\u001b[0m             \u001b[0mreps\u001b[0m \u001b[0;34m=\u001b[0m \u001b[0;34m{\u001b[0m\u001b[0;34m}\u001b[0m\u001b[0;34m\u001b[0m\u001b[0;34m\u001b[0m\u001b[0m\n\u001b[1;32m    146\u001b[0m             \u001b[0;32mfor\u001b[0m \u001b[0mr\u001b[0m \u001b[0;32min\u001b[0m \u001b[0mself\u001b[0m\u001b[0;34m.\u001b[0m\u001b[0matoms\u001b[0m\u001b[0;34m(\u001b[0m\u001b[0mRelational\u001b[0m\u001b[0;34m)\u001b[0m\u001b[0;34m:\u001b[0m\u001b[0;34m\u001b[0m\u001b[0;34m\u001b[0m\u001b[0m\n\u001b[0;32m--> 147\u001b[0;31m                 \u001b[0;32mif\u001b[0m \u001b[0mperiodicity\u001b[0m\u001b[0;34m(\u001b[0m\u001b[0mr\u001b[0m\u001b[0;34m,\u001b[0m \u001b[0mx\u001b[0m\u001b[0;34m)\u001b[0m \u001b[0;32mnot\u001b[0m \u001b[0;32min\u001b[0m \u001b[0;34m(\u001b[0m\u001b[0;36m0\u001b[0m\u001b[0;34m,\u001b[0m \u001b[0;32mNone\u001b[0m\u001b[0;34m)\u001b[0m\u001b[0;34m:\u001b[0m\u001b[0;34m\u001b[0m\u001b[0;34m\u001b[0m\u001b[0m\n\u001b[0m\u001b[1;32m    148\u001b[0m                     \u001b[0ms\u001b[0m \u001b[0;34m=\u001b[0m \u001b[0mr\u001b[0m\u001b[0;34m.\u001b[0m\u001b[0m_eval_as_set\u001b[0m\u001b[0;34m(\u001b[0m\u001b[0;34m)\u001b[0m\u001b[0;34m\u001b[0m\u001b[0;34m\u001b[0m\u001b[0m\n\u001b[1;32m    149\u001b[0m                     \u001b[0;32mif\u001b[0m \u001b[0ms\u001b[0m \u001b[0;32min\u001b[0m \u001b[0;34m(\u001b[0m\u001b[0mS\u001b[0m\u001b[0;34m.\u001b[0m\u001b[0mEmptySet\u001b[0m\u001b[0;34m,\u001b[0m \u001b[0mS\u001b[0m\u001b[0;34m.\u001b[0m\u001b[0mUniversalSet\u001b[0m\u001b[0;34m,\u001b[0m \u001b[0mS\u001b[0m\u001b[0;34m.\u001b[0m\u001b[0mReals\u001b[0m\u001b[0;34m)\u001b[0m\u001b[0;34m:\u001b[0m\u001b[0;34m\u001b[0m\u001b[0;34m\u001b[0m\u001b[0m\n",
      "\u001b[0;32m~/bin/anaconda3/envs/diabete/lib/python3.7/site-packages/sympy/calculus/util.py\u001b[0m in \u001b[0;36mperiodicity\u001b[0;34m(f, symbol, check)\u001b[0m\n\u001b[1;32m    528\u001b[0m     \u001b[0;32melif\u001b[0m \u001b[0mperiod\u001b[0m \u001b[0;32mis\u001b[0m \u001b[0;32mNone\u001b[0m\u001b[0;34m:\u001b[0m\u001b[0;34m\u001b[0m\u001b[0;34m\u001b[0m\u001b[0m\n\u001b[1;32m    529\u001b[0m         \u001b[0;32mfrom\u001b[0m \u001b[0msympy\u001b[0m\u001b[0;34m.\u001b[0m\u001b[0msolvers\u001b[0m\u001b[0;34m.\u001b[0m\u001b[0mdecompogen\u001b[0m \u001b[0;32mimport\u001b[0m \u001b[0mcompogen\u001b[0m\u001b[0;34m\u001b[0m\u001b[0;34m\u001b[0m\u001b[0m\n\u001b[0;32m--> 530\u001b[0;31m         \u001b[0mg_s\u001b[0m \u001b[0;34m=\u001b[0m \u001b[0mdecompogen\u001b[0m\u001b[0;34m(\u001b[0m\u001b[0mf\u001b[0m\u001b[0;34m,\u001b[0m \u001b[0msymbol\u001b[0m\u001b[0;34m)\u001b[0m\u001b[0;34m\u001b[0m\u001b[0;34m\u001b[0m\u001b[0m\n\u001b[0m\u001b[1;32m    531\u001b[0m         \u001b[0mnum_of_gs\u001b[0m \u001b[0;34m=\u001b[0m \u001b[0mlen\u001b[0m\u001b[0;34m(\u001b[0m\u001b[0mg_s\u001b[0m\u001b[0;34m)\u001b[0m\u001b[0;34m\u001b[0m\u001b[0;34m\u001b[0m\u001b[0m\n\u001b[1;32m    532\u001b[0m         \u001b[0;32mif\u001b[0m \u001b[0mnum_of_gs\u001b[0m \u001b[0;34m>\u001b[0m \u001b[0;36m1\u001b[0m\u001b[0;34m:\u001b[0m\u001b[0;34m\u001b[0m\u001b[0;34m\u001b[0m\u001b[0m\n",
      "\u001b[0;32m~/bin/anaconda3/envs/diabete/lib/python3.7/site-packages/sympy/solvers/decompogen.py\u001b[0m in \u001b[0;36mdecompogen\u001b[0;34m(f, symbol)\u001b[0m\n\u001b[1;32m     55\u001b[0m         \u001b[0mf1\u001b[0m \u001b[0;34m=\u001b[0m \u001b[0mf\u001b[0m\u001b[0;34m.\u001b[0m\u001b[0msubs\u001b[0m\u001b[0;34m(\u001b[0m\u001b[0mgens\u001b[0m\u001b[0;34m[\u001b[0m\u001b[0;36m0\u001b[0m\u001b[0;34m]\u001b[0m\u001b[0;34m,\u001b[0m \u001b[0msymbol\u001b[0m\u001b[0;34m)\u001b[0m\u001b[0;34m\u001b[0m\u001b[0;34m\u001b[0m\u001b[0m\n\u001b[1;32m     56\u001b[0m         \u001b[0mf2\u001b[0m \u001b[0;34m=\u001b[0m \u001b[0mgens\u001b[0m\u001b[0;34m[\u001b[0m\u001b[0;36m0\u001b[0m\u001b[0;34m]\u001b[0m\u001b[0;34m\u001b[0m\u001b[0;34m\u001b[0m\u001b[0m\n\u001b[0;32m---> 57\u001b[0;31m         \u001b[0mresult\u001b[0m \u001b[0;34m+=\u001b[0m \u001b[0;34m[\u001b[0m\u001b[0mf1\u001b[0m\u001b[0;34m]\u001b[0m \u001b[0;34m+\u001b[0m \u001b[0mdecompogen\u001b[0m\u001b[0;34m(\u001b[0m\u001b[0mf2\u001b[0m\u001b[0;34m,\u001b[0m \u001b[0msymbol\u001b[0m\u001b[0;34m)\u001b[0m\u001b[0;34m\u001b[0m\u001b[0;34m\u001b[0m\u001b[0m\n\u001b[0m\u001b[1;32m     58\u001b[0m         \u001b[0;32mreturn\u001b[0m \u001b[0mresult\u001b[0m\u001b[0;34m\u001b[0m\u001b[0;34m\u001b[0m\u001b[0m\n\u001b[1;32m     59\u001b[0m \u001b[0;34m\u001b[0m\u001b[0m\n",
      "\u001b[0;32m~/bin/anaconda3/envs/diabete/lib/python3.7/site-packages/sympy/solvers/decompogen.py\u001b[0m in \u001b[0;36mdecompogen\u001b[0;34m(f, symbol)\u001b[0m\n\u001b[1;32m     55\u001b[0m         \u001b[0mf1\u001b[0m \u001b[0;34m=\u001b[0m \u001b[0mf\u001b[0m\u001b[0;34m.\u001b[0m\u001b[0msubs\u001b[0m\u001b[0;34m(\u001b[0m\u001b[0mgens\u001b[0m\u001b[0;34m[\u001b[0m\u001b[0;36m0\u001b[0m\u001b[0;34m]\u001b[0m\u001b[0;34m,\u001b[0m \u001b[0msymbol\u001b[0m\u001b[0;34m)\u001b[0m\u001b[0;34m\u001b[0m\u001b[0;34m\u001b[0m\u001b[0m\n\u001b[1;32m     56\u001b[0m         \u001b[0mf2\u001b[0m \u001b[0;34m=\u001b[0m \u001b[0mgens\u001b[0m\u001b[0;34m[\u001b[0m\u001b[0;36m0\u001b[0m\u001b[0;34m]\u001b[0m\u001b[0;34m\u001b[0m\u001b[0;34m\u001b[0m\u001b[0m\n\u001b[0;32m---> 57\u001b[0;31m         \u001b[0mresult\u001b[0m \u001b[0;34m+=\u001b[0m \u001b[0;34m[\u001b[0m\u001b[0mf1\u001b[0m\u001b[0;34m]\u001b[0m \u001b[0;34m+\u001b[0m \u001b[0mdecompogen\u001b[0m\u001b[0;34m(\u001b[0m\u001b[0mf2\u001b[0m\u001b[0;34m,\u001b[0m \u001b[0msymbol\u001b[0m\u001b[0;34m)\u001b[0m\u001b[0;34m\u001b[0m\u001b[0;34m\u001b[0m\u001b[0m\n\u001b[0m\u001b[1;32m     58\u001b[0m         \u001b[0;32mreturn\u001b[0m \u001b[0mresult\u001b[0m\u001b[0;34m\u001b[0m\u001b[0;34m\u001b[0m\u001b[0m\n\u001b[1;32m     59\u001b[0m \u001b[0;34m\u001b[0m\u001b[0m\n",
      "\u001b[0;32m~/bin/anaconda3/envs/diabete/lib/python3.7/site-packages/sympy/solvers/decompogen.py\u001b[0m in \u001b[0;36mdecompogen\u001b[0;34m(f, symbol)\u001b[0m\n\u001b[1;32m     55\u001b[0m         \u001b[0mf1\u001b[0m \u001b[0;34m=\u001b[0m \u001b[0mf\u001b[0m\u001b[0;34m.\u001b[0m\u001b[0msubs\u001b[0m\u001b[0;34m(\u001b[0m\u001b[0mgens\u001b[0m\u001b[0;34m[\u001b[0m\u001b[0;36m0\u001b[0m\u001b[0;34m]\u001b[0m\u001b[0;34m,\u001b[0m \u001b[0msymbol\u001b[0m\u001b[0;34m)\u001b[0m\u001b[0;34m\u001b[0m\u001b[0;34m\u001b[0m\u001b[0m\n\u001b[1;32m     56\u001b[0m         \u001b[0mf2\u001b[0m \u001b[0;34m=\u001b[0m \u001b[0mgens\u001b[0m\u001b[0;34m[\u001b[0m\u001b[0;36m0\u001b[0m\u001b[0;34m]\u001b[0m\u001b[0;34m\u001b[0m\u001b[0;34m\u001b[0m\u001b[0m\n\u001b[0;32m---> 57\u001b[0;31m         \u001b[0mresult\u001b[0m \u001b[0;34m+=\u001b[0m \u001b[0;34m[\u001b[0m\u001b[0mf1\u001b[0m\u001b[0;34m]\u001b[0m \u001b[0;34m+\u001b[0m \u001b[0mdecompogen\u001b[0m\u001b[0;34m(\u001b[0m\u001b[0mf2\u001b[0m\u001b[0;34m,\u001b[0m \u001b[0msymbol\u001b[0m\u001b[0;34m)\u001b[0m\u001b[0;34m\u001b[0m\u001b[0;34m\u001b[0m\u001b[0m\n\u001b[0m\u001b[1;32m     58\u001b[0m         \u001b[0;32mreturn\u001b[0m \u001b[0mresult\u001b[0m\u001b[0;34m\u001b[0m\u001b[0;34m\u001b[0m\u001b[0m\n\u001b[1;32m     59\u001b[0m \u001b[0;34m\u001b[0m\u001b[0m\n",
      "... last 3 frames repeated, from the frame below ...\n",
      "\u001b[0;32m~/bin/anaconda3/envs/diabete/lib/python3.7/site-packages/sympy/solvers/decompogen.py\u001b[0m in \u001b[0;36mdecompogen\u001b[0;34m(f, symbol)\u001b[0m\n\u001b[1;32m     55\u001b[0m         \u001b[0mf1\u001b[0m \u001b[0;34m=\u001b[0m \u001b[0mf\u001b[0m\u001b[0;34m.\u001b[0m\u001b[0msubs\u001b[0m\u001b[0;34m(\u001b[0m\u001b[0mgens\u001b[0m\u001b[0;34m[\u001b[0m\u001b[0;36m0\u001b[0m\u001b[0;34m]\u001b[0m\u001b[0;34m,\u001b[0m \u001b[0msymbol\u001b[0m\u001b[0;34m)\u001b[0m\u001b[0;34m\u001b[0m\u001b[0;34m\u001b[0m\u001b[0m\n\u001b[1;32m     56\u001b[0m         \u001b[0mf2\u001b[0m \u001b[0;34m=\u001b[0m \u001b[0mgens\u001b[0m\u001b[0;34m[\u001b[0m\u001b[0;36m0\u001b[0m\u001b[0;34m]\u001b[0m\u001b[0;34m\u001b[0m\u001b[0;34m\u001b[0m\u001b[0m\n\u001b[0;32m---> 57\u001b[0;31m         \u001b[0mresult\u001b[0m \u001b[0;34m+=\u001b[0m \u001b[0;34m[\u001b[0m\u001b[0mf1\u001b[0m\u001b[0;34m]\u001b[0m \u001b[0;34m+\u001b[0m \u001b[0mdecompogen\u001b[0m\u001b[0;34m(\u001b[0m\u001b[0mf2\u001b[0m\u001b[0;34m,\u001b[0m \u001b[0msymbol\u001b[0m\u001b[0;34m)\u001b[0m\u001b[0;34m\u001b[0m\u001b[0;34m\u001b[0m\u001b[0m\n\u001b[0m\u001b[1;32m     58\u001b[0m         \u001b[0;32mreturn\u001b[0m \u001b[0mresult\u001b[0m\u001b[0;34m\u001b[0m\u001b[0;34m\u001b[0m\u001b[0m\n\u001b[1;32m     59\u001b[0m \u001b[0;34m\u001b[0m\u001b[0m\n",
      "\u001b[0;31mRecursionError\u001b[0m: maximum recursion depth exceeded while calling a Python object"
     ],
     "ename": "RecursionError",
     "evalue": "maximum recursion depth exceeded while calling a Python object",
     "output_type": "error"
    }
   ],
   "source": [
    "# FIXME: remettre l'équation Spo correcte\n",
    "equations.update({ \n",
    "    S   : sympy.Eq(S,γ*Ipo),\n",
    "    Ipo : sympy.Eq(Ipo.diff(), -γ*Ipo + Spo),\n",
    "    Y   : sympy.Eq(Y.diff(), \n",
    "                   sympy.Piecewise((-α*(Y-β*(G-h)), β*(G-h)>= -Sb),\n",
    "                                   (-α*Y-α*Sb, True))),\n",
    "    Spo : sympy.Eq(Spo, \n",
    "                   #sympy.Piecewise((Y+K*G.diff()+Sb, (G.diff()>0) & (G > h)),\n",
    "                   sympy.Piecewise((Y+K*G.diff()+Sb, (G.diff()>0) & (G > 2)),\n",
    "                                   (Y+Sb, True)))\n",
    "})\n",
    "blockDisplay(*(equations[e] for e in [S,Ipo,Y,Spo]))"
   ]
  },
  {
   "cell_type": "markdown",
   "metadata": {},
   "source": [
    "##### Glucose Renal Excretion"
   ]
  },
  {
   "cell_type": "markdown",
   "metadata": {},
   "source": [
    "Equation (27)"
   ]
  },
  {
   "cell_type": "code",
   "execution_count": null,
   "metadata": {
    "scrolled": true,
    "pycharm": {
     "is_executing": false
    }
   },
   "outputs": [],
   "source": [
    "equations.update({\n",
    "    E : sympy.Eq(E, \n",
    "                sympy.Piecewise((ke1*(Gp-ke2), Gp>ke2),\n",
    "                                (0, True)))\n",
    "})\n",
    "blockDisplay(equations[E])"
   ]
  },
  {
   "cell_type": "markdown",
   "metadata": {},
   "source": [
    "### Insulin subsystem"
   ]
  },
  {
   "cell_type": "markdown",
   "metadata": {},
   "source": [
    "Equations (3) and (11)"
   ]
  },
  {
   "cell_type": "code",
   "execution_count": null,
   "metadata": {
    "pycharm": {
     "is_executing": false
    }
   },
   "outputs": [],
   "source": [
    "equations.update({\n",
    "    Il : sympy.Eq(Il.diff(), -(m1 + m3)*Il + m2*Ip + S),\n",
    "    Ip : sympy.Eq(Ip.diff(), -(m2 + m4)*Ip + m1*Il),\n",
    "    I  : sympy.Eq(I,Ip/VI),\n",
    "    I1 : sympy.Eq(I1.diff(), -ki*(I1-I)),\n",
    "    Id : sympy.Eq(Id.diff(), -ki*(Id-I1))\n",
    "})\n",
    "blockDisplay(*(equations[e] for e in [Il,Ip,I,I1,Id]))"
   ]
  },
  {
   "cell_type": "markdown",
   "metadata": {},
   "source": [
    "Equations (4) and (5)"
   ]
  },
  {
   "cell_type": "code",
   "execution_count": null,
   "metadata": {
    "pycharm": {
     "is_executing": false
    }
   },
   "outputs": [],
   "source": [
    "equations.update({\n",
    "    HE : sympy.Eq(HE, -m5*S + m6),\n",
    "    m3 : sympy.Eq(m3, HE*m1/(1-HE))\n",
    "})\n",
    "blockDisplay(*(equations[e] for e in [HE, m3]))"
   ]
  },
  {
   "cell_type": "markdown",
   "metadata": {},
   "source": [
    "## Parameters values"
   ]
  },
  {
   "cell_type": "markdown",
   "metadata": {},
   "source": [
    "- The values for the parameters b and c used in the equation for kempt are difficult to find: in the [Dalla Man et al. 2007] paper (TABLE 1) there are 4 parameters (a,b,c,d) where I chose b and d to match, resp. b and c here (indeed, IMO these should be dimensionless).\n",
    "- I assume that the value of Kmx is 0 (cite: \"Note that, when fitting on our data [...] Kmx collapses to zero so that Km is no more dependent from X\")\n",
    "- according to  [Dalla Man et al. 2007] (p 1745) : \"h has been set to the basal glucose concentration Gb to guarantee system steady state in basal condition\""
   ]
  },
  {
   "cell_type": "code",
   "execution_count": null,
   "metadata": {
    "pycharm": {
     "is_executing": false
    }
   },
   "outputs": [],
   "source": [
    "parameter_values = dict()\n",
    "model.parameter_values = parameter_values"
   ]
  },
  {
   "cell_type": "code",
   "execution_count": null,
   "metadata": {
    "scrolled": true,
    "pycharm": {
     "is_executing": false
    }
   },
   "outputs": [],
   "source": [
    "parameter_values['normal'] = dict()\n",
    "parameter_values['normal'].update({\n",
    "    # glucose kinetics\n",
    "    VG : 1.88,\n",
    "    k1 : 0.065,\n",
    "    k2 : 0.079,\n",
    "    # insulin kinetics\n",
    "    VI : 0.05,\n",
    "    m1 : 0.19,\n",
    "    m2 : 0.484,\n",
    "    m4 : 0.194,\n",
    "    m5 : 0.0304,\n",
    "    m6 : 0.6471,\n",
    "    HEb: 0.6,\n",
    "    # rate of appearance\n",
    "    kmax: 0.0558,\n",
    "    kmin: 0.008,    \n",
    "    kabs: 0.057,\n",
    "    kgri: 0.0558,\n",
    "    f: 0.9,\n",
    "    b: 0.82,\n",
    "    c: 0.01,\n",
    "    # Endogenous production\n",
    "    kp1: 2.7,\n",
    "    kp2: 0.0021,\n",
    "    kp3: 0.009,\n",
    "    kp4: 0.0618,\n",
    "    ki: 0.0079,\n",
    "    # Utilization\n",
    "    Fcns: 1, \n",
    "    Vm0: 2.5, \n",
    "    Vmx: 0.047,\n",
    "    Km0: 225.59,\n",
    "    Kmx: 0,\n",
    "    p2U: 0.0331,\n",
    "    # Secretion\n",
    "    K: 2.3,\n",
    "    α: 0.05,\n",
    "    β: 0.11,\n",
    "    γ: 0.5,\n",
    "    # Renal Excretion\n",
    "    ke1: 0.0005,\n",
    "    ke2: 339,\n",
    "    # Body weight (not given in Table 2 but in text, +- 1kg)\n",
    "    BW: 78,\n",
    "    # Basal glucose concentration (according to Fig. 5)\n",
    "    Gb: 90\n",
    "})\n",
    "\n",
    "blockDisplay(parameter_values['normal'])"
   ]
  },
  {
   "cell_type": "code",
   "execution_count": null,
   "metadata": {
    "scrolled": false,
    "pycharm": {
     "is_executing": false
    }
   },
   "outputs": [],
   "source": [
    "parameter_values['diabetic'] = dict()\n",
    "parameter_values['diabetic'].update({\n",
    "    # glucose kinetics\n",
    "    VG : 1.49,\n",
    "    k1 : 0.042,\n",
    "    k2 : 0.071,\n",
    "    # insulin kinetics\n",
    "    VI : 0.04,\n",
    "    m1 : 0.379,\n",
    "    m2 : 0.673,\n",
    "    m4 : 0.269,\n",
    "    m5 : 0.0526,\n",
    "    m6 : 0.8118,\n",
    "    HEb: 0.6,\n",
    "    # rate of appearance\n",
    "    kmax: 0.0465,\n",
    "    kmin: 0.0076,    \n",
    "    kabs: 0.023,\n",
    "    kgri: 0.0465,\n",
    "    f: 0.9,\n",
    "    b: 0.68,\n",
    "    c: 0.09,\n",
    "    # Endogenous production\n",
    "    kp1: 3.09,\n",
    "    kp2: 0.0007,\n",
    "    kp3: 0.005,\n",
    "    kp4: 0.0786,\n",
    "    ki: 0.0066,\n",
    "    # Utilization\n",
    "    Fcns: 1, \n",
    "    Vm0: 4.65, \n",
    "    Vmx: 0.034,\n",
    "    Km0: 466.21,\n",
    "    Kmx: 0,\n",
    "    p2U: 0.0840,\n",
    "    # Secretion\n",
    "    K: 0.99,\n",
    "    α: 0.013,\n",
    "    β: 0.05,\n",
    "    γ: 0.5,\n",
    "    # Renal Excretion\n",
    "    ke1: 0.0007,\n",
    "    ke2: 269,\n",
    "    # Body weight (not given in Table 2 but in text, +- 5kg)\n",
    "    BW: 91,\n",
    "    # Basal glucose concentration (according to Fig. 5)\n",
    "    Gb: 160\n",
    "})\n",
    "\n",
    "display(parameter_values['diabetic'])"
   ]
  },
  {
   "cell_type": "code",
   "execution_count": null,
   "metadata": {
    "pycharm": {
     "is_executing": false
    }
   },
   "outputs": [],
   "source": [
    "parameter_values['RYGB'] = parameter_values['diabetic'].copy()\n",
    "parameter_values['RYGB'].update({f : 0.5})\n",
    "display(parameter_values['RYGB'])"
   ]
  },
  {
   "cell_type": "markdown",
   "metadata": {},
   "source": [
    "## Initial conditions"
   ]
  },
  {
   "cell_type": "markdown",
   "metadata": {},
   "source": [
    "Values of the variables at t=0. Note that only the variables defined by a differential equation need to be given  initial conditions explicitly. The initial conditions of the other variables are implicitly obtained by their equation. "
   ]
  },
  {
   "cell_type": "markdown",
   "metadata": {},
   "source": [
    "_As in the matlab implementation we fix D to 90000_"
   ]
  },
  {
   "cell_type": "code",
   "execution_count": null,
   "metadata": {
    "scrolled": true,
    "pycharm": {
     "is_executing": false
    }
   },
   "outputs": [],
   "source": [
    "model.initial_conditions = {\n",
    "    Gp   : Gpb,  # eq (1)\n",
    "    Gt   : Gtb,  # eq (1)\n",
    "    G    : Gb,   # eq (1)\n",
    "    EGP  : EGPb, # eq (10)\n",
    "    Il   : Ilb,  # eq (3)\n",
    "    Ip   : Ipb,  # eq (3)\n",
    "    I    : Ib,   # eq (3)\n",
    "    I1   : Ib,   # eq (11)\n",
    "    Id   : Ib,   # eq (11)\n",
    "    HE   : HEb,  # eq (4)\n",
    "    Qsto : 0,    # eq (13)\n",
    "    Qsto1: 0,    # eq (13)\n",
    "    Qsto2: 0,    # eq (13)\n",
    "    Qgut : 0,    # eq (13)\n",
    "    Ra   : 0,    # eq (13)\n",
    "    X    : 0,    # eq (18)\n",
    "    Y    : 0,    # eq (26)\n",
    "    Ipo  : Ipob,  # eq (24)\n",
    "    D    : 90000\n",
    "}"
   ]
  },
  {
   "cell_type": "markdown",
   "metadata": {},
   "source": [
    "The initial conditions depending on basal values, in order to solve the ODEs we first need to analyze to system at steady state. "
   ]
  },
  {
   "cell_type": "markdown",
   "metadata": {},
   "source": [
    "# Steady state analysis"
   ]
  },
  {
   "cell_type": "markdown",
   "metadata": {},
   "source": [
    "#### Essai de résolution des valeurs à steady state à l'aide des équations 2, 6-9, 12 et 20-22 du papier"
   ]
  },
  {
   "cell_type": "code",
   "execution_count": null,
   "metadata": {
    "deletable": false,
    "editable": false,
    "run_control": {
     "frozen": true
    },
    "pycharm": {
     "is_executing": false
    }
   },
   "outputs": [],
   "source": [
    "# model.steady_state = EmptyObject()\n",
    "# model.steady_state.equations = dict()\n",
    "# model.steady_state.equations.update({\n",
    "#     EGPb: sympy.Eq(EGPb, Ub+Eb),\n",
    "#     #m2: sympy.Eq(m2, (Sb/Ipb - m4/(1-HEb))*((1-HEb)/HEb)), \n",
    "#     m2: sympy.Eq(m3b, 3*Sb / (5*Ilb)), # We correct the equations (9) \n",
    "#     m4: sympy.Eq(m4,((2*Sb)/(5*Ipb))), # We correct the equations (9)\n",
    "#     m6: sympy.Eq(m6,m5*Sb+HEb),\n",
    "#     m3b: sympy.Eq(m3b,(HEb*m1)/(1-HEb)),\n",
    "#     Sb: sympy.Eq(Sb,m3b*Ilb+m4*Ipb),\n",
    "#     kp1: sympy.Eq(kp1, EGPb+kp2*Gpb+kp3*Ib+kp4*Ipob),\n",
    "#     Gtb: sympy.Eq(Gtb, (Fcns-EGPb+k1*Gpb)/k2),\n",
    "#     Ub: sympy.Eq(Ub, EGPb),\n",
    "#     Fcns: sympy.Eq(Ub, Fcns+(Vm0*Gtb)/(Km0+Gtb)),\n",
    "#     Vm0: sympy.Eq(Vm0, (EGPb-Fcns)*(Km0+Gtb)/Gtb)\n",
    "# })\n",
    "# model.steady_state.basal_variables = [EGPb,m2,m4,m6,m3b,Sb,kp1,Gtb,Ub,Fcns,Vm0]\n",
    "# #model.steady_state.basal_variables = [EGPb,m4,m6,m3b,Sb,kp1,Gtb,Ub,Fcns,Vm0]\n",
    "# blockDisplay(*(model.steady_state.equations[e] for e in model.steady_state.basal_variables))\n",
    "# #blockDisplay(list(model.steady_state.equations.values()))"
   ]
  },
  {
   "cell_type": "code",
   "execution_count": null,
   "metadata": {
    "deletable": false,
    "editable": false,
    "run_control": {
     "frozen": true
    },
    "pycharm": {
     "is_executing": false
    }
   },
   "outputs": [],
   "source": [
    "# sympy.solve(list(model.steady_state.equations.values()),{Eb,EGPb,Sb,m3b,Ilb,Ipb,Ib,Gpb,Gtb,Ub,Ipob})"
   ]
  },
  {
   "cell_type": "markdown",
   "metadata": {},
   "source": [
    "**These equations seems to be not enough to get a solution for Ub and Ipob (the value for HEb is given in the paper as 0.6).**"
   ]
  },
  {
   "cell_type": "markdown",
   "metadata": {},
   "source": [
    "# Own steady state analysis"
   ]
  },
  {
   "cell_type": "markdown",
   "metadata": {},
   "source": [
    "Bellow is an attempt to make our own steady state analysis. We succeed but obtain very complex (symbolic) basal values. One reason is probably that we don't consider this assumption that \"the liver is responsible for 60% of insulin clearance in the steady state\" that led, in the paper, to the equation (9)."
   ]
  },
  {
   "cell_type": "markdown",
   "metadata": {},
   "source": [
    "In order to determine the initial conditions we need to infer the basal fluxes.\n",
    "We just fix the amount ingested of glucose as 0. The other input variables (body weight) will subsequently be deleted. In the paper [Dalla Man et al. 2019], the authors give equations to infer the steady state values. Here, we first perform our own steady state analysis to infer these values. Then, we solve the equations given in the paper and finally compare the resulted values.  "
   ]
  },
  {
   "cell_type": "code",
   "execution_count": null,
   "metadata": {
    "pycharm": {
     "is_executing": false
    }
   },
   "outputs": [],
   "source": [
    "my_steady_state = EmptyObject()\n",
    "conditions = EmptyObject()\n",
    "model.my_steady_state = my_steady_state\n",
    "my_steady_state.conditions = conditions\n",
    "\n",
    "conditions.nostimuli = {\n",
    "    D: 0\n",
    "}\n",
    "\n",
    "blockDisplay(\n",
    "    'Conditions representing absence of external stimuli:',\n",
    ")\n",
    "model.my_steady_state.conditions.nostimuli"
   ]
  },
  {
   "cell_type": "markdown",
   "metadata": {},
   "source": [
    "Let us set all the derivative to 0 (i.e. steady state)."
   ]
  },
  {
   "cell_type": "code",
   "execution_count": null,
   "metadata": {
    "pycharm": {
     "is_executing": false
    }
   },
   "outputs": [],
   "source": [
    "conditions.nochange = dict()\n",
    "\n",
    "for ev in model.symbols.variables:\n",
    "    conditions.nochange.update({ev.diff(): 0})\n",
    "\n",
    "blockDisplay(\n",
    "    'Conditions representing constantness of species concentration:',\n",
    ")\n",
    "model.my_steady_state.conditions.nochange\n"
   ]
  },
  {
   "cell_type": "markdown",
   "metadata": {},
   "source": [
    "Substitute the derivatives with 0 and the function symbols (i.e. the variables) for their basal steady state constant symbol:"
   ]
  },
  {
   "cell_type": "code",
   "execution_count": null,
   "metadata": {
    "pycharm": {
     "is_executing": false
    }
   },
   "outputs": [],
   "source": [
    "variables_to_basal = { \n",
    "    x: y for (x,y) in list(zip(symbols.variables, symbols.variables_basal)) \n",
    "}\n",
    "ss_equations = model.equations.copy()\n",
    "ss_equations = \\\n",
    "    subs(ss_equations, my_steady_state.conditions.nochange)\n",
    "ss_equations = \\\n",
    "    subs(ss_equations, my_steady_state.conditions.nostimuli)\n",
    "ss_equations = \\\n",
    "    subs(ss_equations, variables_to_basal)\n",
    "ss_equations.update({ h : sympy.Eq(h, Gb) })\n",
    "blockDisplay(*list(ss_equations.values()))"
   ]
  },
  {
   "cell_type": "markdown",
   "metadata": {},
   "source": [
    "We first break down the piecewise definitions for E and Y: \n",
    "- at basal steady state we can safely assume that glucose renal excretion E is null;\n",
    "- replacing Gb by h in the definition of Y implies that only the first branch of the definition is always satisfied (sympy simplifies it automatically!)  "
   ]
  },
  {
   "cell_type": "code",
   "execution_count": null,
   "metadata": {
    "pycharm": {
     "is_executing": false
    }
   },
   "outputs": [],
   "source": [
    "model.my_steady_state.symbolic_basal_values = dict()\n",
    "#model.my_steady_state.symbolic_basal_values.update({Gb:h, Eb:0})\n",
    "model.my_steady_state.symbolic_basal_values.update({Eb:0})\n",
    "ss_equations.update({E : sympy.Eq(Eb, 0)})\n",
    "ss_equations = subs(ss_equations, {Eb:0,h:Gb})\n",
    "blockDisplay(*list(ss_equations.values()))"
   ]
  },
  {
   "cell_type": "markdown",
   "metadata": {},
   "source": [
    "#### Some usefull fonction to automate the resolution of the steady state equations:"
   ]
  },
  {
   "cell_type": "code",
   "execution_count": null,
   "metadata": {
    "pycharm": {
     "is_executing": false
    }
   },
   "outputs": [],
   "source": [
    "def solve_partial_equations(eqns, variables):\n",
    "    tmp_equations = [\n",
    "        eqns[e]\n",
    "        for e in variables \n",
    "        if e in eqns.keys()\n",
    "    ]\n",
    "    return sympy.solve(tmp_equations,{ variables_to_basal[e] for e in variables })\n",
    "\n",
    "def partial_update_of_steady_state(symbolic_basal_values, sol):\n",
    "    for k in list(symbolic_basal_values.keys()):\n",
    "        if type(symbolic_basal_values[k])!=int:\n",
    "            symbolic_basal_values.update(\n",
    "                {k:subs(symbolic_basal_values[k],sol)}\n",
    "            )\n",
    "    symbolic_basal_values.update(sol)\n",
    "    \n",
    "def partial_update_of_ss_equations(eqns,symbolic_basal_values):\n",
    "    return subs(eqns,symbolic_basal_values)"
   ]
  },
  {
   "cell_type": "markdown",
   "metadata": {},
   "source": [
    "#### We first solve the trivial equations for G, HE, I, kempt, Qgut, Qsto, Qsto1, Qsto2, Ra, S, Uii, X, Y, m3 and EGP"
   ]
  },
  {
   "cell_type": "code",
   "execution_count": null,
   "metadata": {
    "pycharm": {
     "is_executing": false
    }
   },
   "outputs": [],
   "source": [
    "tmp_solutions = solve_partial_equations(\n",
    "                    ss_equations,\n",
    "                    [Gp,HE,I,kempt,Qgut,Qsto,Qsto1,Qsto2,Ra,S,Uii,X,Y,m3,EGP]\n",
    "                )\n",
    "partial_update_of_steady_state(model.my_steady_state.symbolic_basal_values,tmp_solutions[0])\n",
    "ss_equations = partial_update_of_ss_equations(ss_equations,model.my_steady_state.symbolic_basal_values)"
   ]
  },
  {
   "cell_type": "code",
   "execution_count": null,
   "metadata": {
    "scrolled": false,
    "pycharm": {
     "is_executing": false
    }
   },
   "outputs": [],
   "source": [
    "print(\"Partial steady state:\")\n",
    "blockDisplay(model.my_steady_state.symbolic_basal_values)"
   ]
  },
  {
   "cell_type": "markdown",
   "metadata": {},
   "source": [
    "#### Solve sub-system for I1b, Idb and Ipb"
   ]
  },
  {
   "cell_type": "code",
   "execution_count": null,
   "metadata": {
    "pycharm": {
     "is_executing": false
    }
   },
   "outputs": [],
   "source": [
    "tmp_solutions = solve_partial_equations(\n",
    "                    ss_equations,\n",
    "                    [I1,Id,Ip]\n",
    "                )\n",
    "partial_update_of_steady_state(model.my_steady_state.symbolic_basal_values,tmp_solutions)\n",
    "ss_equations = partial_update_of_ss_equations(ss_equations,model.my_steady_state.symbolic_basal_values)\n",
    "display(model.my_steady_state.symbolic_basal_values)"
   ]
  },
  {
   "cell_type": "markdown",
   "metadata": {},
   "source": [
    "#### Solve sub-system for Il, Ipo and Spo"
   ]
  },
  {
   "cell_type": "code",
   "execution_count": null,
   "metadata": {
    "scrolled": false,
    "pycharm": {
     "is_executing": false
    }
   },
   "outputs": [],
   "source": [
    "tmp_solutions = solve_partial_equations(\n",
    "                    ss_equations,\n",
    "                    [Il,Ipo,Spo]\n",
    "                )\n",
    "partial_update_of_steady_state(model.my_steady_state.symbolic_basal_values,tmp_solutions[0])\n",
    "ss_equations = partial_update_of_ss_equations(ss_equations,model.my_steady_state.symbolic_basal_values)\n",
    "display(model.my_steady_state.symbolic_basal_values)"
   ]
  },
  {
   "cell_type": "markdown",
   "metadata": {},
   "source": [
    "#### Solve the sub-system for Ub and Uidb "
   ]
  },
  {
   "cell_type": "code",
   "execution_count": null,
   "metadata": {
    "pycharm": {
     "is_executing": false
    }
   },
   "outputs": [],
   "source": [
    "tmp_solutions = solve_partial_equations(\n",
    "                    ss_equations,\n",
    "                    [U,Uid]\n",
    "                )\n",
    "partial_update_of_steady_state(model.my_steady_state.symbolic_basal_values,tmp_solutions)\n",
    "ss_equations = partial_update_of_ss_equations(ss_equations,model.my_steady_state.symbolic_basal_values)\n",
    "display(model.my_steady_state.symbolic_basal_values)"
   ]
  },
  {
   "cell_type": "markdown",
   "metadata": {},
   "source": [
    "#### Solve the variable Spob"
   ]
  },
  {
   "cell_type": "code",
   "execution_count": null,
   "metadata": {
    "pycharm": {
     "is_executing": false
    }
   },
   "outputs": [],
   "source": [
    "tmp_solutions = sympy.solve(ss_equations[G],{Spob})"
   ]
  },
  {
   "cell_type": "markdown",
   "metadata": {},
   "source": [
    "We obtain two symbolc solutions for Spob. For now, we keep both of them to solve Gt.  "
   ]
  },
  {
   "cell_type": "code",
   "execution_count": null,
   "metadata": {
    "pycharm": {
     "is_executing": false
    }
   },
   "outputs": [],
   "source": [
    "symbolic_basal_values0 = model.my_steady_state.symbolic_basal_values.copy()\n",
    "ss_equations0 = ss_equations.copy()\n",
    "partial_update_of_steady_state(symbolic_basal_values0,{Spob:tmp_solutions[0]})\n",
    "ss_equations0 = partial_update_of_ss_equations(ss_equations0,symbolic_basal_values0)"
   ]
  },
  {
   "cell_type": "code",
   "execution_count": null,
   "metadata": {
    "pycharm": {
     "is_executing": false
    }
   },
   "outputs": [],
   "source": [
    "symbolic_basal_values1 = model.my_steady_state.symbolic_basal_values.copy()\n",
    "ss_equations1 = ss_equations.copy()\n",
    "partial_update_of_steady_state(symbolic_basal_values1,{Spob:tmp_solutions[1]})\n",
    "ss_equations1 = partial_update_of_ss_equations(ss_equations1,symbolic_basal_values1)"
   ]
  },
  {
   "cell_type": "markdown",
   "metadata": {},
   "source": [
    "#### Last step: solving the variable Gtb"
   ]
  },
  {
   "cell_type": "code",
   "execution_count": null,
   "metadata": {
    "pycharm": {
     "is_executing": false
    }
   },
   "outputs": [],
   "source": [
    "tmp_solutions = sympy.solve(ss_equations0[Gt],{Gtb})\n",
    "tmp_solutions"
   ]
  },
  {
   "cell_type": "markdown",
   "metadata": {},
   "source": [
    "We have two solutions of which only the second is valid (i.e. positive):"
   ]
  },
  {
   "cell_type": "code",
   "execution_count": null,
   "metadata": {
    "pycharm": {
     "is_executing": false
    }
   },
   "outputs": [],
   "source": [
    "print(\"first normal solution: \" + str(tmp_solutions[0].subs(model.parameter_values['normal'])))\n",
    "print(\"first diabetic solution: \" + str(tmp_solutions[0].subs(model.parameter_values['diabetic'])))\n",
    "print(\"first RYGB solution: \" + str(tmp_solutions[0].subs(model.parameter_values['RYGB'])))\n",
    "print(\"second normal solution: \" + str(tmp_solutions[1].subs(model.parameter_values['normal'])))\n",
    "print(\"second diabetic solution: \" + str(tmp_solutions[1].subs(model.parameter_values['diabetic'])))\n",
    "print(\"second RYGB solution: \" + str(tmp_solutions[1].subs(model.parameter_values['RYGB'])))"
   ]
  },
  {
   "cell_type": "markdown",
   "metadata": {},
   "source": [
    "We thus update both previous steady states with this solution:"
   ]
  },
  {
   "cell_type": "code",
   "execution_count": null,
   "metadata": {
    "pycharm": {
     "is_executing": false
    }
   },
   "outputs": [],
   "source": [
    "partial_update_of_steady_state(symbolic_basal_values0,{Gtb:tmp_solutions[1]})\n",
    "partial_update_of_steady_state(symbolic_basal_values1,{Gtb:tmp_solutions[1]})"
   ]
  },
  {
   "cell_type": "code",
   "execution_count": null,
   "metadata": {
    "pycharm": {
     "is_executing": false
    }
   },
   "outputs": [],
   "source": [
    "print(\"first normal solution: \" + str(symbolic_basal_values0[Spob].subs(model.parameter_values['normal'])))\n",
    "print(\"first diabetic solution: \" + str(symbolic_basal_values0[Spob].subs(model.parameter_values['diabetic'])))\n",
    "print(\"first RYGB solution: \" + str(symbolic_basal_values0[Spob].subs(model.parameter_values['RYGB'])))\n",
    "print(\"second normal solution: \" + str(symbolic_basal_values1[Spob].subs(model.parameter_values['normal'])))\n",
    "print(\"second diabetic solution: \" + str(symbolic_basal_values1[Spob].subs(model.parameter_values['diabetic'])))\n",
    "print(\"second RYGB solution: \" + str(symbolic_basal_values1[Spob].subs(model.parameter_values['RYGB'])))"
   ]
  },
  {
   "cell_type": "markdown",
   "metadata": {},
   "source": [
    "Thus, the solution is symbolic_basal_values0:"
   ]
  },
  {
   "cell_type": "code",
   "execution_count": null,
   "metadata": {
    "pycharm": {
     "is_executing": false
    }
   },
   "outputs": [],
   "source": [
    "model.my_steady_state.symbolic_basal_values = symbolic_basal_values0"
   ]
  },
  {
   "cell_type": "markdown",
   "metadata": {},
   "source": [
    "### Verification"
   ]
  },
  {
   "cell_type": "markdown",
   "metadata": {},
   "source": [
    "Evaluating HEb for the normal values of the parameters given in the paper, we obtain a value close to 0.6 given in Table 1 of the paper! (h is fixed to Gb that is about 100/VG for normal subject and 160/VG for diabetic subject as depicted in top left curves of Fig 5)"
   ]
  },
  {
   "cell_type": "code",
   "execution_count": null,
   "metadata": {
    "pycharm": {
     "is_executing": false
    }
   },
   "outputs": [],
   "source": [
    "print(\"HEb for normal parameter values: \" + \n",
    "    str(sympy.N(model.my_steady_state.symbolic_basal_values[HEb].subs(model.parameter_values['normal']).subs(Gpb,90))))\n",
    "print(\"HEb for diabetic parameter values: \" + \n",
    "    str(sympy.N(model.my_steady_state.symbolic_basal_values[HEb].subs(model.parameter_values['diabetic']).subs(Gpb,160))))\n",
    "print(\"HEb for RYGB parameter values: \" + \n",
    "    str(sympy.N(model.my_steady_state.symbolic_basal_values[HEb].subs(model.parameter_values['RYGB']).subs(Gpb,160))))"
   ]
  },
  {
   "cell_type": "markdown",
   "metadata": {},
   "source": [
    "### Numerical basal (normal and diabetic) values"
   ]
  },
  {
   "cell_type": "markdown",
   "metadata": {},
   "source": [
    "We fix the numerical values of the variables at steady state for both normal and diabetic subjects: "
   ]
  },
  {
   "cell_type": "code",
   "execution_count": null,
   "metadata": {
    "pycharm": {
     "is_executing": false
    }
   },
   "outputs": [],
   "source": [
    "model.my_steady_state.numeric_basal_values = dict()\n",
    "for subject in ['normal', 'diabetic', 'RYGB']:\n",
    "    model.my_steady_state.numeric_basal_values[subject] = dict()\n",
    "    for k in list(model.my_steady_state.symbolic_basal_values.keys()):\n",
    "        if type(model.my_steady_state.symbolic_basal_values[k]) != int:\n",
    "            model.my_steady_state.\\\n",
    "            numeric_basal_values[subject].\\\n",
    "            update({k:sympy.N(subs(model.my_steady_state.symbolic_basal_values[k],model.parameter_values[subject]))})"
   ]
  },
  {
   "cell_type": "code",
   "execution_count": null,
   "metadata": {
    "pycharm": {
     "is_executing": false
    }
   },
   "outputs": [],
   "source": [
    "model.my_steady_state.numeric_basal_values['normal']"
   ]
  },
  {
   "cell_type": "code",
   "execution_count": null,
   "metadata": {
    "pycharm": {
     "is_executing": false
    }
   },
   "outputs": [],
   "source": [
    "model.my_steady_state.numeric_basal_values['diabetic']"
   ]
  },
  {
   "cell_type": "code",
   "execution_count": null,
   "metadata": {
    "pycharm": {
     "is_executing": false
    }
   },
   "outputs": [],
   "source": [
    "model.my_steady_state.numeric_basal_values['RYGB']"
   ]
  },
  {
   "cell_type": "markdown",
   "metadata": {},
   "source": [
    "# Numerical integration"
   ]
  },
  {
   "cell_type": "markdown",
   "metadata": {},
   "source": [
    "Set of variables that will be integrated:"
   ]
  },
  {
   "cell_type": "code",
   "execution_count": null,
   "metadata": {
    "pycharm": {
     "is_executing": false
    }
   },
   "outputs": [],
   "source": [
    "numerical_simulation = EmptyObject()\n",
    "numerical_simulation.variables = set(model.symbols.variables)\n",
    "numerical_simulation.variables"
   ]
  },
  {
   "cell_type": "markdown",
   "metadata": {},
   "source": [
    "Equations where all symbolic parameters are replaced by a numerical value. We first use the values for normal subjects. "
   ]
  },
  {
   "cell_type": "code",
   "execution_count": null,
   "metadata": {
    "scrolled": false,
    "pycharm": {
     "is_executing": false
    }
   },
   "outputs": [],
   "source": [
    "values = {\n",
    "    subject : model.parameter_values[subject].copy()\n",
    "    for subject in ['normal', 'diabetic', 'RYGB']\n",
    "}\n",
    "\n",
    "for  subject in ['normal', 'diabetic', 'RYGB']:\n",
    "    values[subject].update({h: model.parameter_values[subject][Gb]})\n",
    "\n",
    "# FIXME: régler le problème de récursion!!!\n",
    "# essayer de remplacer le \"& G > h\" par \"& true\" dans la définition de Spo pour voir si c'est un problème\n",
    "# de substitution dans les expressions logiques\n",
    "\n",
    "numerical_simulation.numeric_equations = dict()\n",
    "for subject in ['normal', 'diabetic', 'RYGB']: \n",
    "    numerical_simulation.numeric_equations[subject] = model.equations.copy()\n",
    "    numerical_simulation.numeric_equations[subject] = subs(numerical_simulation.numeric_equations[subject],\n",
    "                                                           values[subject], maxRecursionDepth=20)\n",
    "    numerical_simulation.numeric_equations[subject] = subs(numerical_simulation.numeric_equations[subject],\n",
    "                                                           model.my_steady_state.numeric_basal_values[subject])\n",
    "    numerical_simulation.numeric_equations[subject].update({D : sympy.Eq(D.diff(),0)})\n",
    "numerical_simulation.variables.add(D)"
   ]
  },
  {
   "cell_type": "markdown",
   "metadata": {},
   "source": [
    "We remove algebraic equations and keep only differential equations. We use a fonction that substitutes variables defined by an algebraic equation by the RHS of its definition."
   ]
  },
  {
   "cell_type": "code",
   "execution_count": null,
   "metadata": {
    "pycharm": {
     "is_executing": false
    }
   },
   "outputs": [],
   "source": [
    "def remove_alg_eq(var, eqs):\n",
    "    eqs.update({ k : eqs[k].subs(var,eqs[var].rhs) for k in eqs.keys() })\n",
    "    del eqs[var]"
   ]
  },
  {
   "cell_type": "code",
   "execution_count": null,
   "metadata": {
    "pycharm": {
     "is_executing": false
    }
   },
   "outputs": [],
   "source": [
    "only_diff_equations = dict()\n",
    "only_diff_equations['normal'] = numerical_simulation.numeric_equations['normal'].copy()\n",
    "only_diff_equations['diabetic'] = numerical_simulation.numeric_equations['diabetic'].copy()\n",
    "only_diff_equations['RYGB'] = numerical_simulation.numeric_equations['RYGB'].copy()\n",
    "for subject in ['normal', 'diabetic', 'RYGB']:\n",
    "    for v in [E,EGP,G,HE,I,kempt,Qsto,Ra,S,Spo,U,Uid,Uii,m3]:\n",
    "         remove_alg_eq(v,only_diff_equations[subject])"
   ]
  },
  {
   "cell_type": "markdown",
   "metadata": {},
   "source": [
    "A derivative (d/dt Gp) remains in the equation of Ipo. This is problematic for the numerical integration, so we substitute it by the rhs of the equation for Gp. We have to do it by hand, that is we walk through the syntactic expression and reconstruct it with the substituted term."
   ]
  },
  {
   "cell_type": "code",
   "execution_count": null,
   "metadata": {
    "pycharm": {
     "is_executing": false
    }
   },
   "outputs": [],
   "source": [
    "term = dict()\n",
    "for subject in ['normal','diabetic','RYGB']:\n",
    "    term[subject] = only_diff_equations[subject][Ipo].rhs.doit()\n",
    "    display(term[subject])"
   ]
  },
  {
   "cell_type": "code",
   "execution_count": null,
   "metadata": {
    "pycharm": {
     "is_executing": false
    }
   },
   "outputs": [],
   "source": [
    "for subject in ['normal','diabetic','RYGB']:\n",
    "    only_diff_equations[subject].update({Ipo : \n",
    "        only_diff_equations[subject][Ipo].doit().subs(Gp.diff(),only_diff_equations[subject][Gp].rhs)\n",
    "    })"
   ]
  },
  {
   "cell_type": "code",
   "execution_count": null,
   "metadata": {
    "deletable": false,
    "editable": false,
    "run_control": {
     "frozen": true
    },
    "pycharm": {
     "is_executing": false
    }
   },
   "outputs": [],
   "source": [
    "dGp = dict()\n",
    "first_value = dict()\n",
    "second_value = dict()\n",
    "new_term = dict()\n",
    "for subject in ['normal','diabetic','RYGB']:\n",
    "    dGp[subject] = only_diff_equations[subject][Gp].rhs.simplify()\n",
    "    first_value[subject] = term[subject].args[1].args[0][0].args[1].args[0]\n",
    "    second_value[subject] = term[subject].args[1].args[0][0].args[0]\n",
    "    new_term[subject] = (Y + first_value[subject] * dGp[subject] + second_value[subject]).simplify()\n",
    "    display(new_term[subject])"
   ]
  },
  {
   "cell_type": "code",
   "execution_count": null,
   "metadata": {
    "deletable": false,
    "editable": false,
    "run_control": {
     "frozen": true
    },
    "pycharm": {
     "is_executing": false
    }
   },
   "outputs": [],
   "source": [
    "new_new_term = dict()\n",
    "for subject in ['normal','diabetic','RYGB']:\n",
    "    new_new_term[subject] = term[subject].args[1].func(term[subject].args[1].args[0].func(new_term[subject],dGp[subject]>0),\n",
    "                                                   term[subject].args[1].args[1]).simplify()\n",
    "    blockDisplay(new_new_term[subject])"
   ]
  },
  {
   "cell_type": "code",
   "execution_count": null,
   "metadata": {
    "deletable": false,
    "editable": false,
    "run_control": {
     "frozen": true
    },
    "pycharm": {
     "is_executing": false
    }
   },
   "outputs": [],
   "source": [
    "for subject in ['normal','diabetic','RYGB']:\n",
    "    only_diff_equations[subject].update({Ipo: sympy.Eq(Ipo,term[subject].func(term[subject].args[0],new_new_term[subject]))})"
   ]
  },
  {
   "cell_type": "markdown",
   "metadata": {},
   "source": [
    "Let's simplify the whole ODE:"
   ]
  },
  {
   "cell_type": "code",
   "execution_count": null,
   "metadata": {
    "pycharm": {
     "is_executing": false
    }
   },
   "outputs": [],
   "source": [
    "# for subject in ['normal','diabetic','RYGB']:\n",
    "#     for k in list(only_diff_equations[subject].keys()):\n",
    "#         only_diff_equations[subject].update({k:only_diff_equations[subject][k].simplify()})\n",
    "#only_diff_equations"
   ]
  },
  {
   "cell_type": "code",
   "execution_count": null,
   "metadata": {
    "pycharm": {
     "is_executing": false
    }
   },
   "outputs": [],
   "source": [
    "eq_vars = tuple(only_diff_equations['normal'].keys())\n",
    "display(eq_vars)"
   ]
  },
  {
   "cell_type": "code",
   "execution_count": null,
   "metadata": {
    "pycharm": {
     "is_executing": false
    }
   },
   "outputs": [],
   "source": [
    "only_diff_equations['normal'][Gp]"
   ]
  },
  {
   "cell_type": "code",
   "execution_count": null,
   "metadata": {
    "deletable": false,
    "editable": false,
    "run_control": {
     "frozen": true
    },
    "pycharm": {
     "is_executing": false
    }
   },
   "outputs": [],
   "source": [
    "for subject in ['normal','diabetic','RYGB']:\n",
    "    only_diff_equations[subject].update({Qsto1 : sympy.Eq(Qsto1.diff(),only_diff_equations[subject][Qsto1].lhs)})\n",
    "    only_diff_equations[subject][Qsto1]"
   ]
  },
  {
   "cell_type": "code",
   "execution_count": null,
   "metadata": {
    "pycharm": {
     "is_executing": false
    }
   },
   "outputs": [],
   "source": [
    "eqnf = { subject : tuple(\n",
    "                       sympy.lambdify(\n",
    "                         (t,) + eq_vars,\n",
    "                          only_diff_equations[subject][ev].args[1].\\\n",
    "                           subs(DiracDelta(t),0.5 - sympy.tanh(10*(t-.3))/2),\n",
    "                           modules='sympy'\n",
    "                        ) for ev in eq_vars\n",
    "                   ) for subject in ['normal', 'diabetic', 'RYGB']\n",
    "       }"
   ]
  },
  {
   "cell_type": "code",
   "execution_count": null,
   "metadata": {
    "pycharm": {
     "is_executing": false
    }
   },
   "outputs": [],
   "source": [
    "eqnf['normal']"
   ]
  },
  {
   "cell_type": "code",
   "execution_count": null,
   "metadata": {
    "pycharm": {
     "is_executing": false
    }
   },
   "outputs": [],
   "source": [
    "eq_vars"
   ]
  },
  {
   "cell_type": "code",
   "execution_count": null,
   "metadata": {
    "pycharm": {
     "is_executing": false
    }
   },
   "outputs": [],
   "source": [
    "def numsys_normal(t, y, *kargs, **kwargs): return [eqn(t, *y) for eqn in eqnf['normal']]\n",
    "def numsys_diabetic(t, y, *kargs, **kwargs): return [eqn(t, *y) for eqn in eqnf['diabetic']]\n",
    "def numsys_RYGB(t, y, *kargs, **kwargs): return [eqn(t, *y) for eqn in eqnf['RYGB']]"
   ]
  },
  {
   "cell_type": "code",
   "execution_count": null,
   "metadata": {
    "pycharm": {
     "is_executing": false
    }
   },
   "outputs": [],
   "source": [
    "initial_conditions = dict()\n",
    "for subject in ['normal', 'diabetic', 'RYGB']:\n",
    "    initial_conditions[subject] = \\\n",
    "        tuple(\n",
    "               (\n",
    "                 model.initial_conditions[ev] \n",
    "                 if (type(model.initial_conditions[ev]) == int)\n",
    "                 else model.my_steady_state.numeric_basal_values[subject][model.initial_conditions[ev]]\n",
    "               ) for ev in eq_vars\n",
    "            )\n",
    "#initial_conditions"
   ]
  },
  {
   "cell_type": "code",
   "execution_count": null,
   "metadata": {
    "scrolled": true,
    "pycharm": {
     "is_executing": false
    }
   },
   "outputs": [],
   "source": [
    "display(only_diff_equations['diabetic'][Gp])\n",
    "display(only_diff_equations['RYGB'][Gp])"
   ]
  },
  {
   "cell_type": "markdown",
   "metadata": {},
   "source": [
    "## Simulations"
   ]
  },
  {
   "cell_type": "code",
   "execution_count": null,
   "metadata": {
    "pycharm": {
     "is_executing": false
    }
   },
   "outputs": [],
   "source": [
    "interv = [0, 600]\n",
    "xp = scipy.linspace(*interv, 100)\n",
    "sol_normal = solve_ivp(numsys_normal, interv, initial_conditions['normal'], method=\"LSODA\")\n",
    "sol_diabetic = solve_ivp(numsys_diabetic, interv, initial_conditions['diabetic'], method=\"LSODA\")\n",
    "sol_rygb = solve_ivp(numsys_RYGB, interv, initial_conditions['RYGB'], method=\"LSODA\")"
   ]
  },
  {
   "cell_type": "markdown",
   "metadata": {},
   "source": [
    "#### Plasma Glucose G(t)"
   ]
  },
  {
   "cell_type": "markdown",
   "metadata": {},
   "source": [
    "* normal = blue\n",
    "* diabetic = orange\n",
    "* RYGB = green"
   ]
  },
  {
   "cell_type": "code",
   "execution_count": null,
   "metadata": {
    "pycharm": {
     "is_executing": false
    }
   },
   "outputs": [],
   "source": [
    "plot(sol_normal.t, sol_normal.y[0]/model.parameter_values['normal'][VG])\n",
    "plot(sol_diabetic.t, sol_diabetic.y[0]/model.parameter_values['diabetic'][VG])\n",
    "plot(sol_rygb.t, sol_rygb.y[0]/model.parameter_values['RYGB'][VG])\n",
    "show()"
   ]
  },
  {
   "cell_type": "markdown",
   "metadata": {},
   "source": [
    "#### Glucose rate of appearance Ra(t)"
   ]
  },
  {
   "cell_type": "code",
   "execution_count": null,
   "metadata": {
    "pycharm": {
     "is_executing": false
    }
   },
   "outputs": [],
   "source": [
    "plot(sol_normal.t, model.parameter_values['normal'][f]*model.parameter_values['normal'][kabs]*sol_normal.y[eq_vars.index(Qgut)]/model.parameter_values['normal'][BW])\n",
    "plot(sol_diabetic.t, model.parameter_values['diabetic'][f]*model.parameter_values['diabetic'][kabs]*sol_diabetic.y[eq_vars.index(Qgut)]/model.parameter_values['diabetic'][BW])\n",
    "plot(sol_rygb.t, model.parameter_values['RYGB'][f]*model.parameter_values['RYGB'][kabs]*sol_rygb.y[eq_vars.index(Qgut)]/model.parameter_values['RYGB'][BW])\n",
    "show()"
   ]
  },
  {
   "cell_type": "markdown",
   "metadata": {},
   "source": [
    "#### Plasma insulin I(t)"
   ]
  },
  {
   "cell_type": "code",
   "execution_count": null,
   "metadata": {
    "pycharm": {
     "is_executing": false
    }
   },
   "outputs": [],
   "source": [
    "plot(sol_normal.t, sol_normal.y[eq_vars.index(Ip)]/model.parameter_values['normal'][VI])\n",
    "plot(sol_diabetic.t, sol_diabetic.y[eq_vars.index(Ip)]/model.parameter_values['diabetic'][VI])\n",
    "plot(sol_rygb.t, sol_rygb.y[eq_vars.index(Ip)]/model.parameter_values['RYGB'][VI])\n",
    "show()"
   ]
  },
  {
   "cell_type": "markdown",
   "metadata": {},
   "source": [
    "#### Endogenous glucose production EGP(t)"
   ]
  },
  {
   "cell_type": "code",
   "execution_count": null,
   "metadata": {
    "pycharm": {
     "is_executing": false
    }
   },
   "outputs": [],
   "source": [
    "plot(sol_normal.t, model.parameter_values['normal'][kp1]-model.parameter_values['normal'][kp2]*sol_normal.y[eq_vars.index(Gp)]\n",
    "             -model.parameter_values['normal'][kp3]*sol_normal.y[eq_vars.index(Id)]\n",
    "             -model.parameter_values['normal'][kp4]*sol_normal.y[eq_vars.index(Ipo)])\n",
    "plot(sol_diabetic.t, model.parameter_values['diabetic'][kp1]-model.parameter_values['diabetic'][kp2]*sol_diabetic.y[eq_vars.index(Gp)]\n",
    "             -model.parameter_values['diabetic'][kp3]*sol_diabetic.y[eq_vars.index(Id)]\n",
    "             -model.parameter_values['diabetic'][kp4]*sol_diabetic.y[eq_vars.index(Ipo)])\n",
    "plot(sol_rygb.t, model.parameter_values['RYGB'][kp1]-model.parameter_values['RYGB'][kp2]*sol_rygb.y[eq_vars.index(Gp)]\n",
    "             -model.parameter_values['RYGB'][kp3]*sol_rygb.y[eq_vars.index(Id)]\n",
    "             -model.parameter_values['RYGB'][kp4]*sol_rygb.y[eq_vars.index(Ipo)])\n",
    "show()"
   ]
  },
  {
   "cell_type": "markdown",
   "metadata": {},
   "source": [
    "#### Insulin secretion S(t)"
   ]
  },
  {
   "cell_type": "code",
   "execution_count": null,
   "metadata": {
    "scrolled": true,
    "pycharm": {
     "is_executing": false
    }
   },
   "outputs": [],
   "source": [
    "plot(sol_normal.t, sol_normal.y[eq_vars.index(Ipo)]*model.parameter_values['normal'][γ])\n",
    "plot(sol_diabetic.t, sol_diabetic.y[eq_vars.index(Ipo)]*model.parameter_values['diabetic'][γ])\n",
    "plot(sol_rygb.t, sol_rygb.y[eq_vars.index(Ipo)]*model.parameter_values['RYGB'][γ])\n",
    "show()"
   ]
  },
  {
   "cell_type": "markdown",
   "metadata": {},
   "source": [
    "# Comparison with clinical data (mixed meal test)"
   ]
  },
  {
   "cell_type": "code",
   "execution_count": null,
   "metadata": {
    "pycharm": {
     "is_executing": false
    }
   },
   "outputs": [],
   "source": [
    "import csv\n",
    "import locale\n",
    "locale.setlocale(locale.LC_ALL, 'fr_FR')"
   ]
  },
  {
   "cell_type": "code",
   "execution_count": null,
   "metadata": {
    "pycharm": {
     "is_executing": false
    }
   },
   "outputs": [],
   "source": [
    "data = []\n",
    "with open('../Pattou_data/repasTests.csv', newline='') as csvfile:\n",
    "        reader = csv.DictReader(csvfile, delimiter=';')\n",
    "        try:\n",
    "            for row in reader:\n",
    "                data_row = []\n",
    "                if (row['type operation'] == '1,00') and (row['diabete'] == '0,00'):\n",
    "                   data_row = [locale.atof(row['mmtt-glyc'+x+'_mg_dl']) for x in ['30', '60', '90', '120', '180']]\n",
    "                   data_row.insert(0,locale.atof(row['num_obese']))\n",
    "                data.append(data_row)\n",
    "        except:\n",
    "            print('OUPS!')"
   ]
  },
  {
   "cell_type": "markdown",
   "metadata": {},
   "source": [
    "Remove empty data rows:"
   ]
  },
  {
   "cell_type": "code",
   "execution_count": null,
   "metadata": {
    "pycharm": {
     "is_executing": false
    }
   },
   "outputs": [],
   "source": [
    "data = [x for x in data if x != []]"
   ]
  },
  {
   "cell_type": "code",
   "execution_count": null,
   "metadata": {
    "pycharm": {
     "is_executing": false
    }
   },
   "outputs": [],
   "source": [
    "data"
   ]
  },
  {
   "cell_type": "code",
   "execution_count": null,
   "metadata": {
    "pycharm": {
     "is_executing": false
    }
   },
   "outputs": [],
   "source": [
    "def display_data_diabetic(num):\n",
    "    plot(sol_diabetic.t, sol_diabetic.y[0]/model.parameter_values['diabetic'][VG])\n",
    "    plot([30,60,90,120,180], data[num][1:], linestyle = 'none', marker = 'o')\n",
    "    print('num_obese = '+str(data[num][0]))"
   ]
  },
  {
   "cell_type": "code",
   "execution_count": null,
   "metadata": {
    "pycharm": {
     "is_executing": false
    }
   },
   "outputs": [],
   "source": [
    "def display_data_normal(num):\n",
    "    plot(sol_normal.t, sol_normal.y[0]/model.parameter_values['normal'][VG])\n",
    "    plot([30,60,90,120,180], data[num][1:], linestyle = 'none', marker = 'o')\n",
    "    print('num_obese = '+str(data[num][0]))"
   ]
  },
  {
   "cell_type": "code",
   "execution_count": null,
   "metadata": {
    "pycharm": {
     "is_executing": false
    }
   },
   "outputs": [],
   "source": [
    "display_data_normal(4)"
   ]
  }
 ],
 "metadata": {
  "celltoolbar": "Aucun(e)",
  "kernelspec": {
   "name": "python3",
   "language": "python",
   "display_name": "Python 3"
  },
  "language_info": {
   "codemirror_mode": {
    "name": "ipython",
    "version": 3
   },
   "file_extension": ".py",
   "mimetype": "text/x-python",
   "name": "python",
   "nbconvert_exporter": "python",
   "pygments_lexer": "ipython3",
   "version": "3.7.4"
  },
  "pycharm": {
   "stem_cell": {
    "cell_type": "raw",
    "source": [],
    "metadata": {
     "collapsed": false
    }
   }
  }
 },
 "nbformat": 4,
 "nbformat_minor": 2
}